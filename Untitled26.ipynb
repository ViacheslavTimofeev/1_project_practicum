{
 "cells": [
  {
   "cell_type": "code",
   "execution_count": 15,
   "id": "a7a0d851",
   "metadata": {},
   "outputs": [
    {
     "name": "stdout",
     "output_type": "stream",
     "text": [
      "                   type_message  type_id\n",
      "4              Не работает сайт        1\n",
      "2              Накрутка отзывов        2\n",
      "0    Жалоба на товар в магазине        3\n",
      "6  Продажа поддельной продукции        4\n",
      "1                 Мошенничество        5\n",
      "5   Продажа запрещенных товаров        6\n",
      "7                  Отзыв удалён        7\n",
      "3          Жалоба на видеообзор        8\n"
     ]
    }
   ],
   "source": [
    "import pandas as pd\n",
    "\n",
    "support = pd.read_csv('D:\\support.csv')\n",
    "support = support.rename(columns={'Тип обращения':'type_message', 'Время обращения':'timestamp'})\n",
    "#print(support['type_message'].value_counts())\n",
    "support_log = support[['user_id', 'type_id', 'timestamp']]\n",
    "support_dict = support[['type_message', 'type_id']]\n",
    "support_dict = support_dict.drop_duplicates().reset_index(drop=True).sort_values('type_id')\n",
    "print(support_dict.head(10))\n"
   ]
  },
  {
   "cell_type": "code",
   "execution_count": null,
   "id": "e78ad105",
   "metadata": {},
   "outputs": [],
   "source": []
  }
 ],
 "metadata": {
  "kernelspec": {
   "display_name": "Python 3 (ipykernel)",
   "language": "python",
   "name": "python3"
  },
  "language_info": {
   "codemirror_mode": {
    "name": "ipython",
    "version": 3
   },
   "file_extension": ".py",
   "mimetype": "text/x-python",
   "name": "python",
   "nbconvert_exporter": "python",
   "pygments_lexer": "ipython3",
   "version": "3.9.13"
  }
 },
 "nbformat": 4,
 "nbformat_minor": 5
}
