{
 "cells": [
  {
   "cell_type": "code",
   "execution_count": 34,
   "id": "e1b8d33f",
   "metadata": {},
   "outputs": [
    {
     "name": "stdout",
     "output_type": "stream",
     "text": [
      "genre_name\n",
      "pop             30\n",
      "jazz             6\n",
      "easy             5\n",
      "electronic       5\n",
      "rock             4\n",
      "latin            4\n",
      "hiphop           3\n",
      "dance            2\n",
      "rap              1\n",
      "urban            1\n",
      "top              1\n",
      "spiritual        1\n",
      "soundtrack       1\n",
      "alternative      1\n",
      "bacheta          1\n",
      "instrumental     1\n",
      "folk             1\n",
      "children         1\n",
      "boleros          1\n",
      "world            1\n",
      "Name: genre_name, dtype: int64\n"
     ]
    }
   ],
   "source": [
    "import pandas as pd\n",
    "\n",
    "df = pd.read_csv('D:\\music_log_upd.csv')\n",
    "genre_grouping = df.groupby('user_id')['genre_name']\n",
    "\n",
    "def user_genres(group):\n",
    "    for col in group:\n",
    "        if len(col[1]) > 50:\n",
    "            user = col[0]\n",
    "            return user\n",
    "        \n",
    "search_id = user_genres(genre_grouping)\n",
    "\n",
    "music_user = df[df['user_id'] == search_id]\n",
    "music_user = music_user[music_user['total_play_seconds'] != 0]\n",
    "\n",
    "sum_music_user = music_user.groupby('genre_name')['total_play_seconds'].sum()\n",
    "#print(sum_music_user)\n",
    "count_music_user = music_user.groupby('genre_name')['genre_name'].count()\n",
    "#print(count_music_user)\n",
    "final_sum = sum_music_user.sort_values(ascending=False)\n",
    "#print(final_sum)\n",
    "final_count = count_music_user.sort_values(ascending=False)\n",
    "print(final_count)"
   ]
  },
  {
   "cell_type": "code",
   "execution_count": 25,
   "id": "f7a95c65",
   "metadata": {},
   "outputs": [
    {
     "name": "stdout",
     "output_type": "stream",
     "text": [
      "<class 'pandas.core.frame.DataFrame'>\n",
      "RangeIndex: 61212 entries, 0 to 61211\n",
      "Data columns (total 5 columns):\n",
      " #   Column              Non-Null Count  Dtype  \n",
      "---  ------              --------------  -----  \n",
      " 0   user_id             61212 non-null  object \n",
      " 1   total_play_seconds  61212 non-null  float64\n",
      " 2   artist_name         61212 non-null  object \n",
      " 3   genre_name          61212 non-null  object \n",
      " 4   track_name          61212 non-null  object \n",
      "dtypes: float64(1), object(4)\n",
      "memory usage: 2.3+ MB\n",
      "None\n"
     ]
    }
   ],
   "source": [
    "import pandas as pd\n",
    "\n",
    "df = pd.read_csv('D:\\music_log_upd.csv')\n",
    "print(df.info())"
   ]
  },
  {
   "cell_type": "code",
   "execution_count": null,
   "id": "d91056be",
   "metadata": {},
   "outputs": [],
   "source": []
  },
  {
   "cell_type": "code",
   "execution_count": null,
   "id": "b95e3ec2",
   "metadata": {},
   "outputs": [],
   "source": []
  }
 ],
 "metadata": {
  "kernelspec": {
   "display_name": "Python 3 (ipykernel)",
   "language": "python",
   "name": "python3"
  },
  "language_info": {
   "codemirror_mode": {
    "name": "ipython",
    "version": 3
   },
   "file_extension": ".py",
   "mimetype": "text/x-python",
   "name": "python",
   "nbconvert_exporter": "python",
   "pygments_lexer": "ipython3",
   "version": "3.9.13"
  }
 },
 "nbformat": 4,
 "nbformat_minor": 5
}
