{
 "cells": [
  {
   "cell_type": "code",
   "execution_count": 5,
   "id": "da3b2f87-bc2b-4cde-80d6-7f5bfdacb32c",
   "metadata": {},
   "outputs": [
    {
     "name": "stdout",
     "output_type": "stream",
     "text": [
      "Linear Regression\n",
      "27.436250978085887\n",
      "\n",
      "Median\n",
      "27.22281548413595\n",
      "64802    4.0\n",
      "58580    4.0\n",
      "53584    4.0\n",
      "39420    4.0\n",
      "5776     4.0\n",
      "        ... \n",
      "22856    4.0\n",
      "7648     4.0\n",
      "76113    4.0\n",
      "25572    4.0\n",
      "72103    4.0\n",
      "Length: 19478, dtype: float64\n"
     ]
    }
   ],
   "source": [
    "import pandas as pd\n",
    "from sklearn.model_selection import train_test_split\n",
    "from sklearn.linear_model import LinearRegression\n",
    "from sklearn.metrics import mean_absolute_error\n",
    "\n",
    "data = pd.read_csv('D:/flights_preprocessed.csv')\n",
    "\n",
    "target = data['Arrival Delay']\n",
    "features = data.drop(['Arrival Delay'] , axis=1)\n",
    "\n",
    "features_train, features_valid, target_train, target_valid = train_test_split(features, target, test_size=0.25, random_state=12345)\n",
    "\n",
    "model = LinearRegression()\n",
    "model.fit(features_train, target_train)\n",
    "predicted_valid = model.predict(features_valid)\n",
    "\n",
    "print(\"Linear Regression\")\n",
    "print(mean_absolute_error(target_valid, predicted_valid))\n",
    "print()\n",
    "predicted_valid = pd.Series(target_train.median(), index=target_valid.index) \n",
    "print(\"Median\")\n",
    "print(mean_absolute_error(target_valid, predicted_valid))\n",
    "print(predicted_valid)"
   ]
  },
  {
   "cell_type": "code",
   "execution_count": null,
   "id": "88940fef-a230-4ce5-859e-c19247cb95b4",
   "metadata": {},
   "outputs": [],
   "source": []
  },
  {
   "cell_type": "code",
   "execution_count": null,
   "id": "644db8e4-889c-42a7-ab66-ef746b7f92ca",
   "metadata": {},
   "outputs": [],
   "source": []
  }
 ],
 "metadata": {
  "kernelspec": {
   "display_name": "Python 3 (ipykernel)",
   "language": "python",
   "name": "python3"
  },
  "language_info": {
   "codemirror_mode": {
    "name": "ipython",
    "version": 3
   },
   "file_extension": ".py",
   "mimetype": "text/x-python",
   "name": "python",
   "nbconvert_exporter": "python",
   "pygments_lexer": "ipython3",
   "version": "3.9.13"
  }
 },
 "nbformat": 4,
 "nbformat_minor": 5
}
