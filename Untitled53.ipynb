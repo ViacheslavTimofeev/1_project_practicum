{
 "cells": [
  {
   "cell_type": "code",
   "execution_count": 10,
   "id": "85cad178-bf3b-43aa-889f-cdc603adbfc8",
   "metadata": {},
   "outputs": [
    {
     "name": "stdout",
     "output_type": "stream",
     "text": [
      "0.9998460354118552\n",
      "Accuracy test: 0.8595679012345679\n"
     ]
    }
   ],
   "source": [
    "import pandas as pd\n",
    "from sklearn.tree import DecisionTreeClassifier\n",
    "from sklearn.metrics import accuracy_score \n",
    "\n",
    "df = pd.read_csv('D:/train_data.csv')\n",
    "\n",
    "df.loc[df['last_price'] > 5650000, 'price_class'] = 1\n",
    "df.loc[df['last_price'] <= 5650000, 'price_class'] = 0\n",
    "\n",
    "features = df.drop(['last_price', 'price_class'], axis=1)\n",
    "target = df['price_class']\n",
    "\n",
    "model = DecisionTreeClassifier(random_state=12345)\n",
    "model.fit(features, target)\n",
    "predictions = model.predict(features)\n",
    "test_df = pd.read_csv('D:/test_data.csv')\n",
    "\n",
    "test_df.loc[test_df['last_price'] > 5650000, 'price_class'] = 1\n",
    "test_df.loc[test_df['last_price'] <= 5650000, 'price_class'] = 0\n",
    "\n",
    "test_features = test_df.drop(['Unnamed: 0','last_price', 'price_class'], axis=1)\n",
    "test_target = test_df['price_class']\n",
    "\n",
    "test_predictions = model.predict(test_features)\n",
    "\n",
    "def error_count(answers, predictions):\n",
    "    count = 0\n",
    "    for i in range(len(answers)):\n",
    "        if answers[i] != predictions[i]:\n",
    "            count += 1\n",
    "    return count\n",
    "'''\n",
    "def accuracy(answers, predictions):\n",
    "    correct = 0\n",
    "    for i in range(len(answers)):\n",
    "        if answers[i] == predictions[i]:\n",
    "            correct += 1\n",
    "    return correct / len(answers)\n",
    "'''\n",
    "accuracy_train = accuracy_score(target, predictions)\n",
    "print(accuracy_train)\n",
    "def accuracy(answers, predictions):\n",
    "    count = 0\n",
    "    for i in range(len(answers)):\n",
    "        if answers[i] != predictions[i]:\n",
    "            count += 1\n",
    "    return ((len(answers) - count) / len(answers))\n",
    "        \n",
    "print(\"Accuracy test:\", accuracy(test_target, test_predictions))"
   ]
  },
  {
   "cell_type": "code",
   "execution_count": null,
   "id": "e16b0ec2-6b9c-4e94-bd4e-9fb58e29d400",
   "metadata": {},
   "outputs": [],
   "source": []
  }
 ],
 "metadata": {
  "kernelspec": {
   "display_name": "Python 3 (ipykernel)",
   "language": "python",
   "name": "python3"
  },
  "language_info": {
   "codemirror_mode": {
    "name": "ipython",
    "version": 3
   },
   "file_extension": ".py",
   "mimetype": "text/x-python",
   "name": "python",
   "nbconvert_exporter": "python",
   "pygments_lexer": "ipython3",
   "version": "3.9.13"
  }
 },
 "nbformat": 4,
 "nbformat_minor": 5
}
