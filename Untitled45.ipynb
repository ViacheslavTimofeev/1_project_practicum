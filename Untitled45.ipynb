{
 "cells": [
  {
   "cell_type": "code",
   "execution_count": 11,
   "id": "0ef1c3c0-6f94-44e9-95ea-67751e5c8b2a",
   "metadata": {},
   "outputs": [
    {
     "name": "stdout",
     "output_type": "stream",
     "text": [
      "0.0035522109283553016\n"
     ]
    }
   ],
   "source": [
    "from scipy import stats as st\n",
    "import math as mt\n",
    "\n",
    "binom_n = 23000\n",
    "binom_p = 0.4\n",
    "threshold = 9000\n",
    "mu = binom_n * binom_p\n",
    "sigma = (binom_n * binom_p * (1 - binom_p)) ** 0.5\n",
    "p_threshold = st.norm(mu, sigma).cdf(1 - threshold)\n",
    "\n",
    "print(p_threshold)"
   ]
  },
  {
   "cell_type": "code",
   "execution_count": null,
   "id": "948d0875-5255-499b-b518-6517e8a5f4e4",
   "metadata": {},
   "outputs": [],
   "source": []
  }
 ],
 "metadata": {
  "kernelspec": {
   "display_name": "Python 3 (ipykernel)",
   "language": "python",
   "name": "python3"
  },
  "language_info": {
   "codemirror_mode": {
    "name": "ipython",
    "version": 3
   },
   "file_extension": ".py",
   "mimetype": "text/x-python",
   "name": "python",
   "nbconvert_exporter": "python",
   "pygments_lexer": "ipython3",
   "version": "3.9.13"
  }
 },
 "nbformat": 4,
 "nbformat_minor": 5
}
