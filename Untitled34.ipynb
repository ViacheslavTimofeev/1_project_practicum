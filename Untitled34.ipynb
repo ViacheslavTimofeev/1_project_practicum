{
 "cells": [
  {
   "cell_type": "code",
   "execution_count": 4,
   "id": "f9efcc18-185a-4a75-8a9b-6bed28c9f926",
   "metadata": {},
   "outputs": [
    {
     "name": "stdout",
     "output_type": "stream",
     "text": [
      "0    -5.0\n",
      "1    -4.0\n",
      "2    -3.0\n",
      "3    -2.0\n",
      "4    -1.0\n",
      "5     0.0\n",
      "6     1.0\n",
      "7     2.0\n",
      "8     3.0\n",
      "9     4.0\n",
      "10    5.0\n",
      "dtype: float64\n",
      "0.0\n"
     ]
    }
   ],
   "source": [
    "import pandas as pd\n",
    "data = pd.Series([0, 1, 2, 3, 4, 5, 6, 7, 8, 9, 10])\n",
    "mean_value = data.mean()\n",
    "spacing_all = data - mean_value\n",
    "print(spacing_all)\n",
    "spacing_all_mean = spacing_all.mean()\n",
    "print(spacing_all_mean)"
   ]
  },
  {
   "cell_type": "code",
   "execution_count": null,
   "id": "ad770b21-9409-4d96-a25d-b88276071266",
   "metadata": {},
   "outputs": [],
   "source": []
  }
 ],
 "metadata": {
  "kernelspec": {
   "display_name": "Python 3 (ipykernel)",
   "language": "python",
   "name": "python3"
  },
  "language_info": {
   "codemirror_mode": {
    "name": "ipython",
    "version": 3
   },
   "file_extension": ".py",
   "mimetype": "text/x-python",
   "name": "python",
   "nbconvert_exporter": "python",
   "pygments_lexer": "ipython3",
   "version": "3.9.13"
  }
 },
 "nbformat": 4,
 "nbformat_minor": 5
}
