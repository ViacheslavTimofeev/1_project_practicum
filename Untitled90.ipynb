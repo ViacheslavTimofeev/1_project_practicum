{
 "cells": [
  {
   "cell_type": "code",
   "execution_count": 3,
   "id": "aee84142-56ea-4758-a453-35e059bcba0a",
   "metadata": {},
   "outputs": [
    {
     "name": "stdout",
     "output_type": "stream",
     "text": [
      "2000\n"
     ]
    }
   ],
   "source": [
    "import pandas as pd\n",
    "\n",
    "def revenue(target, probabilities, count):\n",
    "    probabilities = probab.sort_values(ascending=False)\n",
    "    selected = target[probabilities.index][:count]\n",
    "    return 1000 * selected[selected == 1].count()\n",
    "target = pd.Series([1, 1, 0, 0, 1, 0])\n",
    "probab = pd.Series([0.2, 0.9, 0.8, 0.3, 0.5, 0.1])\n",
    "res = revenue(target, probab, 3)\n",
    "print(res)"
   ]
  },
  {
   "cell_type": "code",
   "execution_count": null,
   "id": "c3fd60b3-d46a-45dd-a34d-a0d10d48b650",
   "metadata": {},
   "outputs": [],
   "source": []
  }
 ],
 "metadata": {
  "kernelspec": {
   "display_name": "Python 3 (ipykernel)",
   "language": "python",
   "name": "python3"
  },
  "language_info": {
   "codemirror_mode": {
    "name": "ipython",
    "version": 3
   },
   "file_extension": ".py",
   "mimetype": "text/x-python",
   "name": "python",
   "nbconvert_exporter": "python",
   "pygments_lexer": "ipython3",
   "version": "3.9.16"
  }
 },
 "nbformat": 4,
 "nbformat_minor": 5
}
