{
 "cells": [
  {
   "cell_type": "code",
   "execution_count": 7,
   "id": "93299f70",
   "metadata": {},
   "outputs": [
    {
     "name": "stdout",
     "output_type": "stream",
     "text": [
      "0\n"
     ]
    }
   ],
   "source": [
    "import pandas as pd\n",
    "\n",
    "df = pd.read_csv('D:\\music_log_upd.csv')\n",
    "#print(df.head(15))\n",
    "#print(df.columns)\n",
    "na_number = df.isna().sum()\n",
    "#print(na_number)\n",
    "duplicated_number = df.duplicated().sum()\n",
    "print(duplicated_number)"
   ]
  },
  {
   "cell_type": "code",
   "execution_count": null,
   "id": "ba9c3046",
   "metadata": {},
   "outputs": [],
   "source": []
  }
 ],
 "metadata": {
  "kernelspec": {
   "display_name": "Python 3 (ipykernel)",
   "language": "python",
   "name": "python3"
  },
  "language_info": {
   "codemirror_mode": {
    "name": "ipython",
    "version": 3
   },
   "file_extension": ".py",
   "mimetype": "text/x-python",
   "name": "python",
   "nbconvert_exporter": "python",
   "pygments_lexer": "ipython3",
   "version": "3.9.13"
  }
 },
 "nbformat": 4,
 "nbformat_minor": 5
}
