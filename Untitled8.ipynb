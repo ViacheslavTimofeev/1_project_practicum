{
 "cells": [
  {
   "cell_type": "code",
   "execution_count": 29,
   "id": "feb85998",
   "metadata": {},
   "outputs": [
    {
     "name": "stdout",
     "output_type": "stream",
     "text": [
      "6    1\n",
      "7    1\n",
      "8    1\n",
      "9    1\n",
      "Name: H, dtype: int64\n"
     ]
    }
   ],
   "source": [
    "import pandas as pd\n",
    "\n",
    "board_df = pd.read_csv('D:\\game_board.csv')\n",
    "#print(board_df.loc[0, 'J'])\n",
    "#print(board_df.loc[1:3, 'B'])\n",
    "#print(board_df.loc[5, 'C':'F'])\n",
    "print(board_df[board_df['H'] == 1]['H'])"
   ]
  },
  {
   "cell_type": "code",
   "execution_count": null,
   "id": "7c51908c",
   "metadata": {},
   "outputs": [],
   "source": []
  }
 ],
 "metadata": {
  "kernelspec": {
   "display_name": "Python 3 (ipykernel)",
   "language": "python",
   "name": "python3"
  },
  "language_info": {
   "codemirror_mode": {
    "name": "ipython",
    "version": 3
   },
   "file_extension": ".py",
   "mimetype": "text/x-python",
   "name": "python",
   "nbconvert_exporter": "python",
   "pygments_lexer": "ipython3",
   "version": "3.9.13"
  }
 },
 "nbformat": 4,
 "nbformat_minor": 5
}
