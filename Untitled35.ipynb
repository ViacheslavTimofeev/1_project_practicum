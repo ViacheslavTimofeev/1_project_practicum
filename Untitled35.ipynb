{
 "cells": [
  {
   "cell_type": "code",
   "execution_count": 11,
   "id": "23d4a7d2-2828-4e3b-a1c5-bf16ecfcfbe8",
   "metadata": {},
   "outputs": [
    {
     "name": "stdout",
     "output_type": "stream",
     "text": [
      "10.0\n",
      "11.0\n",
      "3.3166247903554\n",
      "4.5\n"
     ]
    }
   ],
   "source": [
    "import numpy as np\n",
    "import pandas as pd\n",
    "data = pd.Series([0, 1, 2, 3, 4, 5, 6, 7, 8, 9, 10])\n",
    "print(np.var(data))\n",
    "print(np.var(data, ddof=1))\n",
    "standard_dev = np.std(data, ddof=1)\n",
    "print(standard_dev)\n",
    "print(3 + 3 * np.sqrt(0.25))"
   ]
  },
  {
   "cell_type": "code",
   "execution_count": null,
   "id": "e34c4f4e-8c26-4c30-b6ad-a7a77f9be8b0",
   "metadata": {},
   "outputs": [],
   "source": []
  }
 ],
 "metadata": {
  "kernelspec": {
   "display_name": "Python 3 (ipykernel)",
   "language": "python",
   "name": "python3"
  },
  "language_info": {
   "codemirror_mode": {
    "name": "ipython",
    "version": 3
   },
   "file_extension": ".py",
   "mimetype": "text/x-python",
   "name": "python",
   "nbconvert_exporter": "python",
   "pygments_lexer": "ipython3",
   "version": "3.9.13"
  }
 },
 "nbformat": 4,
 "nbformat_minor": 5
}
