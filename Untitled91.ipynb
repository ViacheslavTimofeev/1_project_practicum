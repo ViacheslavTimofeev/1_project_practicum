{
 "cells": [
  {
   "cell_type": "code",
   "execution_count": 3,
   "id": "b5c8d3ca-a5bd-49b8-89e5-c7e11bd8a5c2",
   "metadata": {},
   "outputs": [
    {
     "name": "stdout",
     "output_type": "stream",
     "text": [
      "0       0.463149\n",
      "1       0.593570\n",
      "2       0.625652\n",
      "3       0.078355\n",
      "4       0.111616\n",
      "          ...   \n",
      "1995    0.790908\n",
      "1996    0.921637\n",
      "1997    0.908005\n",
      "1998    0.369378\n",
      "1999    0.651391\n",
      "Name: 0, Length: 2000, dtype: float64\n",
      "Средняя выручка: 7721.0\n",
      "1%-квантиль: 0.0\n"
     ]
    }
   ],
   "source": [
    "import pandas as pd\n",
    "import numpy as np\n",
    "\n",
    "# возьмём индекс '0', чтобы перевести данные в pd.Series\n",
    "target = pd.read_csv('D:/eng_target.csv')['0']\n",
    "probabilities = pd.read_csv('D:/eng_probabilites.csv')['0']\n",
    "def revenue(target, probabilities, count):\n",
    "    probs_sorted = probabilities.sort_values(ascending=False)\n",
    "    selected = target[probs_sorted.index][:count]\n",
    "    return 1000 * selected.sum()\n",
    "state = np.random.RandomState(12345)\n",
    "values = []\n",
    "\n",
    "for i in range(1000):\n",
    "    target_subsample = target.sample(frac=1, replace=True, random_state=state)\n",
    "    probs_subsample = probabilities[target_subsample.index] \n",
    "    values.append(revenue(target_subsample, probs_subsample, 10))\n",
    "values = pd.Series(values)\n",
    "lower = values.quantile(q=0.01)\n",
    "mean = values.mean()\n",
    "print(\"Средняя выручка:\", mean)\n",
    "print(\"1%-квантиль:\", lower)"
   ]
  },
  {
   "cell_type": "code",
   "execution_count": null,
   "id": "5fc1ccad-c07b-4a67-93a4-cc27b3ad08af",
   "metadata": {},
   "outputs": [],
   "source": []
  }
 ],
 "metadata": {
  "kernelspec": {
   "display_name": "Python 3 (ipykernel)",
   "language": "python",
   "name": "python3"
  },
  "language_info": {
   "codemirror_mode": {
    "name": "ipython",
    "version": 3
   },
   "file_extension": ".py",
   "mimetype": "text/x-python",
   "name": "python",
   "nbconvert_exporter": "python",
   "pygments_lexer": "ipython3",
   "version": "3.9.16"
  }
 },
 "nbformat": 4,
 "nbformat_minor": 5
}
