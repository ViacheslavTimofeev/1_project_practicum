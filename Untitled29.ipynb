{
 "cells": [
  {
   "cell_type": "code",
   "execution_count": 8,
   "id": "db57dbf0",
   "metadata": {},
   "outputs": [
    {
     "name": "stdout",
     "output_type": "stream",
     "text": [
      "в порядке очереди    3\n",
      "высокий риск         3\n",
      "блокер               1\n",
      "обратить внимание    1\n",
      "Name: importace_status, dtype: int64\n"
     ]
    }
   ],
   "source": [
    "import pandas as pd\n",
    "\n",
    "support_log_grouped = pd.read_csv('D:\\support_log_grouped.csv')\n",
    "#print(support_log_grouped)\n",
    "row_values = ['высокий', 1]\n",
    "row_columns = ['alert_group', 'importance']\n",
    "data = pd.Series(data=row_values, index=row_columns)\n",
    "def alert_group_importance(row):\n",
    "    if (row['alert_group'] == 'средний') & (row['importance'] == 1):\n",
    "        return 'обратить внимание'\n",
    "    if (row['alert_group'] == 'высокий') & (row['importance'] == 1):\n",
    "        return 'высокий риск'\n",
    "    if (row['alert_group'] == 'критичный') & (row['importance'] == 1):\n",
    "        return 'блокер'\n",
    "    return 'в порядке очереди'\n",
    "support_log_grouped['importace_status'] = support_log_grouped.apply(alert_group_importance, axis=1)\n",
    "print(support_log_grouped['importace_status'].value_counts())"
   ]
  },
  {
   "cell_type": "code",
   "execution_count": null,
   "id": "822aeaee",
   "metadata": {},
   "outputs": [],
   "source": []
  }
 ],
 "metadata": {
  "kernelspec": {
   "display_name": "Python 3 (ipykernel)",
   "language": "python",
   "name": "python3"
  },
  "language_info": {
   "codemirror_mode": {
    "name": "ipython",
    "version": 3
   },
   "file_extension": ".py",
   "mimetype": "text/x-python",
   "name": "python",
   "nbconvert_exporter": "python",
   "pygments_lexer": "ipython3",
   "version": "3.9.13"
  }
 },
 "nbformat": 4,
 "nbformat_minor": 5
}
