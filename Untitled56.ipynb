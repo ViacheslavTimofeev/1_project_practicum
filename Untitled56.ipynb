{
 "cells": [
  {
   "cell_type": "code",
   "execution_count": 22,
   "id": "78eb42ed-840f-4b1e-89c0-afc076c7a817",
   "metadata": {},
   "outputs": [
    {
     "name": "stdout",
     "output_type": "stream",
     "text": [
      "   Agency  Agency Type  Distribution Channel  Product Name  Claim  Duration  \\\n",
      "0     9.0          0.0                   1.0          24.0    0.0      14.0   \n",
      "1     7.0          1.0                   1.0          10.0    0.0      52.0   \n",
      "2     7.0          1.0                   1.0          10.0    0.0     253.0   \n",
      "3     7.0          1.0                   1.0          10.0    0.0       8.0   \n",
      "4     9.0          0.0                   1.0          24.0    0.0       7.0   \n",
      "\n",
      "   Destination  Net Sales  Commission (in value)  Gender   Age  \n",
      "0        121.0      602.0                  486.0     1.0  37.0  \n",
      "1         61.0      470.0                    0.0     2.0  34.0  \n",
      "2         16.0      735.0                    0.0     2.0  34.0  \n",
      "3         54.0      121.0                    0.0     2.0  34.0  \n",
      "4         24.0      602.0                  486.0     1.0  32.0  \n"
     ]
    }
   ],
   "source": [
    "import pandas as pd\n",
    "from sklearn.model_selection import train_test_split\n",
    "from sklearn.linear_model import LogisticRegression\n",
    "from sklearn.preprocessing import OrdinalEncoder\n",
    "from sklearn.tree import DecisionTreeClassifier\n",
    "\n",
    "data = pd.read_csv('D:/travel_insurance.csv')\n",
    "\n",
    "data_ohe = pd.get_dummies(data, drop_first=True)\n",
    "encoder = OrdinalEncoder() \n",
    "data_ordinal = pd.DataFrame(encoder.fit_transform(data), columns=data.columns)\n",
    "features = data_ohe.drop('Claim', axis=1)\n",
    "target = data_ohe['Claim']\n",
    "\n",
    "features_train, features_valid, target_train, target_valid = train_test_split(features, target, test_size=0.25, random_state=12345)\n",
    "\n",
    "model = LogisticRegression(solver='liblinear', random_state=12345)\n",
    "model.fit(features_train, target_train)\n",
    "\n",
    "model_tree = DecisionTreeClassifier(random_state=12345)\n",
    "model_tree.fit()\n",
    "print(data_ordinal.head())"
   ]
  },
  {
   "cell_type": "code",
   "execution_count": null,
   "id": "d6fb8013-e840-4dac-854d-444708c931bf",
   "metadata": {},
   "outputs": [],
   "source": []
  }
 ],
 "metadata": {
  "kernelspec": {
   "display_name": "Python 3 (ipykernel)",
   "language": "python",
   "name": "python3"
  },
  "language_info": {
   "codemirror_mode": {
    "name": "ipython",
    "version": 3
   },
   "file_extension": ".py",
   "mimetype": "text/x-python",
   "name": "python",
   "nbconvert_exporter": "python",
   "pygments_lexer": "ipython3",
   "version": "3.9.13"
  }
 },
 "nbformat": 4,
 "nbformat_minor": 5
}
