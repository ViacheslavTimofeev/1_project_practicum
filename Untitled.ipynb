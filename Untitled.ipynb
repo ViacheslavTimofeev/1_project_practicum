{
 "cells": [
  {
   "cell_type": "code",
   "execution_count": 1,
   "id": "dc9f6e1d",
   "metadata": {},
   "outputs": [
    {
     "name": "stdout",
     "output_type": "stream",
     "text": [
      "Омлет готов! Яиц в омлете: 2\n"
     ]
    }
   ],
   "source": [
    "def omelet(eggs_number):\n",
    "    result = 'Омлет готов! Яиц в омлете: ' + str(eggs_number)\n",
    "    # раскомментируйте следующую строчку, чтобы напечатать результат прямо внутри функции\n",
    "    #print(result)\n",
    "    return result\n",
    "print(omelet(2))"
   ]
  },
  {
   "cell_type": "code",
   "execution_count": 3,
   "id": "16f7ee32",
   "metadata": {},
   "outputs": [
    {
     "name": "stdout",
     "output_type": "stream",
     "text": [
      "2\n",
      "3\n",
      "4\n",
      "5\n",
      "6\n"
     ]
    }
   ],
   "source": [
    "def calcu(number):\n",
    "    for i in range(number):\n",
    "        print(i + 2)\n",
    "calcu(5)"
   ]
  },
  {
   "cell_type": "code",
   "execution_count": null,
   "id": "54a4ef1d",
   "metadata": {},
   "outputs": [],
   "source": []
  }
 ],
 "metadata": {
  "kernelspec": {
   "display_name": "Python 3 (ipykernel)",
   "language": "python",
   "name": "python3"
  },
  "language_info": {
   "codemirror_mode": {
    "name": "ipython",
    "version": 3
   },
   "file_extension": ".py",
   "mimetype": "text/x-python",
   "name": "python",
   "nbconvert_exporter": "python",
   "pygments_lexer": "ipython3",
   "version": "3.9.13"
  }
 },
 "nbformat": 4,
 "nbformat_minor": 5
}
