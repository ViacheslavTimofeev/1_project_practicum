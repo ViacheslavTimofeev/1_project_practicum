{
 "cells": [
  {
   "cell_type": "code",
   "execution_count": 13,
   "id": "eba9426b-80bd-4650-8a1a-78906befb2b5",
   "metadata": {},
   "outputs": [
    {
     "name": "stdout",
     "output_type": "stream",
     "text": [
      "Средняя оценка качества модели: 0.7757377049180327\n"
     ]
    }
   ],
   "source": [
    "import pandas as pd\n",
    "from sklearn.tree import DecisionTreeClassifier\n",
    "from sklearn.model_selection import cross_val_score\n",
    "\n",
    "data = pd.read_csv('D:/heart.csv')\n",
    "\n",
    "features = data.drop(['target'], axis=1)\n",
    "target = data['target']\n",
    "\n",
    "\n",
    "model = DecisionTreeClassifier(random_state=0)\n",
    "score = cvs(model, features, target, cv=5)\n",
    "\n",
    "\n",
    "# < посчитайте среднее качество модели >   \n",
    "print('Средняя оценка качества модели:', score.mean())"
   ]
  },
  {
   "cell_type": "code",
   "execution_count": null,
   "id": "c2c49264-afa1-4d35-a6a7-8debd93015c7",
   "metadata": {},
   "outputs": [],
   "source": []
  },
  {
   "cell_type": "code",
   "execution_count": null,
   "id": "ab425aeb-d321-404e-ae06-cc4d3d4fc80f",
   "metadata": {},
   "outputs": [],
   "source": []
  }
 ],
 "metadata": {
  "kernelspec": {
   "display_name": "Python 3 (ipykernel)",
   "language": "python",
   "name": "python3"
  },
  "language_info": {
   "codemirror_mode": {
    "name": "ipython",
    "version": 3
   },
   "file_extension": ".py",
   "mimetype": "text/x-python",
   "name": "python",
   "nbconvert_exporter": "python",
   "pygments_lexer": "ipython3",
   "version": "3.9.13"
  }
 },
 "nbformat": 4,
 "nbformat_minor": 5
}
