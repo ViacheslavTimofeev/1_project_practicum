{
 "cells": [
  {
   "cell_type": "code",
   "execution_count": null,
   "id": "8f94a410-b482-4778-b11f-77cfb4f9d253",
   "metadata": {},
   "outputs": [],
   "source": [
    "ratio = len(data.loc[data['Exited'] == 0]) // len(data.loc[data['Exited'] == 1]) # соотношение значений 1 к 0\n",
    "data_1 = data.loc[data['Exited'] == 1]\n",
    "data_1 = df_1.loc[df_1.index.repeat(ratio)] # повтор ratio-количества раз меньшего класса\n",
    "data_new = pd.concat([train.loc[data['Exited'] == 0], data_1]).sample(frac=1) # соединение датасетов\n",
    "\n",
    "df_1 = train.loc[train['Approved']==1]\n",
    "df_1 = df_1.loc[df_1.index.repeat(rat)]\n",
    "train_n = pd.concat([train.loc[train['Approved']==0], df_1]).sample(frac=1)"
   ]
  }
 ],
 "metadata": {
  "kernelspec": {
   "display_name": "Python 3 (ipykernel)",
   "language": "python",
   "name": "python3"
  },
  "language_info": {
   "codemirror_mode": {
    "name": "ipython",
    "version": 3
   },
   "file_extension": ".py",
   "mimetype": "text/x-python",
   "name": "python",
   "nbconvert_exporter": "python",
   "pygments_lexer": "ipython3",
   "version": "3.9.13"
  }
 },
 "nbformat": 4,
 "nbformat_minor": 5
}
