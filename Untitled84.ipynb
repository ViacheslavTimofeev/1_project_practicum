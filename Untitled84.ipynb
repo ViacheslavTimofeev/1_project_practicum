{
 "cells": [
  {
   "cell_type": "code",
   "execution_count": 9,
   "id": "47adfc9a-6d5c-4c56-8a95-18f8e1d6e32e",
   "metadata": {},
   "outputs": [
    {
     "name": "stdout",
     "output_type": "stream",
     "text": [
      "Наилучшая модель\n",
      "MAE на обучающей выборке:  22.470787198618467\n",
      "MAE на валидационной выборке:  25.489193328600177\n"
     ]
    }
   ],
   "source": [
    "import pandas as pd\n",
    "from sklearn.model_selection import train_test_split\n",
    "from sklearn.linear_model import LinearRegression\n",
    "from sklearn.tree import DecisionTreeRegressor\n",
    "from sklearn.ensemble import RandomForestRegressor\n",
    "from sklearn.metrics import mean_absolute_error\n",
    "\n",
    "data = pd.read_csv('D:/flights_preprocessed.csv')\n",
    "\n",
    "target = data['Arrival Delay']\n",
    "features = data.drop(['Arrival Delay'] , axis=1)\n",
    "\n",
    "features_train, features_valid, target_train, target_valid = train_test_split(features, target, test_size=0.25, random_state=12345) # разбейте на обучающую и валидационную выборку\n",
    "model = RandomForestRegressor(n_estimators=80, max_depth=12, random_state=12345)\n",
    "model.fit(features_train, target_train) # обучите модель на обучающей выборке\n",
    "predictions_train = model.predict(features_train) # получите предсказания на обучающей выборке\n",
    "predictions_valid = model.predict(features_valid) #получите предсказания на валидационной выборке\n",
    "print(\"Наилучшая модель\")\n",
    "print(\"MAE на обучающей выборке: \", mean_absolute_error(target_train, predictions_train)) # найдите значение метрики MAE на обучающей выборке\n",
    "print(\"MAE на валидационной выборке: \", mean_absolute_error(target_valid, predictions_valid)) # найдите значение метрики MAE на валидационной выборке"
   ]
  },
  {
   "cell_type": "code",
   "execution_count": null,
   "id": "bbf696b0-d842-48ed-a661-7b389c8d29c6",
   "metadata": {},
   "outputs": [],
   "source": []
  },
  {
   "cell_type": "code",
   "execution_count": null,
   "id": "c4c43e10-b5e4-4f51-b664-50dc73964234",
   "metadata": {},
   "outputs": [],
   "source": []
  }
 ],
 "metadata": {
  "kernelspec": {
   "display_name": "Python 3 (ipykernel)",
   "language": "python",
   "name": "python3"
  },
  "language_info": {
   "codemirror_mode": {
    "name": "ipython",
    "version": 3
   },
   "file_extension": ".py",
   "mimetype": "text/x-python",
   "name": "python",
   "nbconvert_exporter": "python",
   "pygments_lexer": "ipython3",
   "version": "3.9.13"
  }
 },
 "nbformat": 4,
 "nbformat_minor": 5
}
