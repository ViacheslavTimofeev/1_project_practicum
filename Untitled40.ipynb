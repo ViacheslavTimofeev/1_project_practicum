{
 "cells": [
  {
   "cell_type": "code",
   "execution_count": 1,
   "id": "357995f9-1fbf-4349-9eda-ec93baa80995",
   "metadata": {},
   "outputs": [
    {
     "name": "stdout",
     "output_type": "stream",
     "text": [
      "Математическое ожидание равно 3.25\n",
      "Дисперсия равна 1.1875\n"
     ]
    }
   ],
   "source": [
    "import numpy as np\n",
    "\n",
    "# Вероятность того, что отдельно взятый питон окажется одним из 12 знаков Зодиака, равна 1/12.\n",
    "# Вероятность того, что он принадлежит к одной из 4 стихий, равна 1/4.\n",
    "# Вероятности для двух стихий - Огня и Земли - нужно сложить, чтобы получить вероятность\n",
    "# того, что питон весит 3 кг, для остальных просто остается 1/4.\n",
    "weight_probs = {\n",
    "    '2': 0.25,\n",
    "    '3':0.5,\n",
    "    '5':0.25\n",
    "}\n",
    "expectation = sum([int(x) * weight_probs[x] for x in weight_probs])\n",
    "variance = sum([int(x) * int(x) * weight_probs[x] for x in weight_probs]) - expectation ** 2\n",
    "print('Математическое ожидание равно', expectation)\n",
    "print('Дисперсия равна', variance)"
   ]
  },
  {
   "cell_type": "code",
   "execution_count": null,
   "id": "46b7c274-e384-4469-8c72-a67101dc6c24",
   "metadata": {},
   "outputs": [],
   "source": []
  }
 ],
 "metadata": {
  "kernelspec": {
   "display_name": "Python 3 (ipykernel)",
   "language": "python",
   "name": "python3"
  },
  "language_info": {
   "codemirror_mode": {
    "name": "ipython",
    "version": 3
   },
   "file_extension": ".py",
   "mimetype": "text/x-python",
   "name": "python",
   "nbconvert_exporter": "python",
   "pygments_lexer": "ipython3",
   "version": "3.9.13"
  }
 },
 "nbformat": 4,
 "nbformat_minor": 5
}
