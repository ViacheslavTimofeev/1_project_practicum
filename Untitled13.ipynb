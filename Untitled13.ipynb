{
 "cells": [
  {
   "cell_type": "code",
   "execution_count": 25,
   "id": "d2a2644e",
   "metadata": {},
   "outputs": [
    {
     "name": "stdout",
     "output_type": "stream",
     "text": [
      "      user_id  total_play_seconds artist_name genre_name track_name\n",
      "0         NaN                 NaN         NaN        NaN        NaN\n",
      "1         NaN                 NaN         NaN        NaN        NaN\n",
      "2         NaN                 NaN         NaN        NaN        NaN\n",
      "3         NaN                 NaN         NaN        NaN        NaN\n",
      "4         NaN                 NaN         NaN        NaN        NaN\n",
      "...       ...                 ...         ...        ...        ...\n",
      "61207     NaN                 NaN         NaN        NaN        NaN\n",
      "61208     NaN                 NaN         NaN        NaN        NaN\n",
      "61209     NaN                 NaN         NaN        NaN        NaN\n",
      "61210     NaN                 NaN         NaN        NaN        NaN\n",
      "61211     NaN                 NaN         NaN        NaN        NaN\n",
      "\n",
      "[61212 rows x 5 columns]\n"
     ]
    }
   ],
   "source": [
    "import pandas as pd\n",
    "\n",
    "df = pd.read_csv('D:/music_log_upd.csv')\n",
    "pop_music = df[df['genre_name'] == 'pop']\n",
    "pop_music = pop_music[pop_music['total_play_seconds'] != 0]\n",
    "pop_music_max_total_play = pop_music['total_play_seconds'].max()\n",
    "#print(pop_music_max_total_play)\n",
    "pop_music_max_info = pop_music[pop_music['total_play_seconds'] == pop_music['total_play_seconds'].max()]\n",
    "#print(pop_music_max_info)\n",
    "pop_music_min_total_play = pop_music[pop_music['total_play_seconds'] != 0]\n",
    "#print(pop_music_min_total_play)\n",
    "pop_music_min_info = pop_music[pop_music['total_play_seconds'] == pop_music['total_play_seconds'].min()]\n",
    "#print(pop_music_min_info)\n",
    "#pop_music_median = pop_music.sort_values(by='total_play_seconds')\n",
    "pop_music_median = pop_music['total_play_seconds'].median()\n",
    "#print(pop_music_median)\n",
    "pop_music_mean = pop_music['total_play_seconds'].mean()\n",
    "#print(pop_music_mean)\n",
    "\n",
    "\n"
   ]
  },
  {
   "cell_type": "code",
   "execution_count": 38,
   "id": "c01b961f",
   "metadata": {},
   "outputs": [
    {
     "name": "stdout",
     "output_type": "stream",
     "text": [
      "  genre  genre_rock_max  genre_rock_min\n",
      "0  rock      1699.14882        0.014183\n"
     ]
    }
   ],
   "source": [
    "import pandas as pd\n",
    "\n",
    "df = pd.read_csv('D:/music_log_upd.csv')\n",
    "\n",
    "current_engagement = df.groupby('user_id').sum().median()\n",
    "exp = [['engagement', 57.456, current_engagement, current_engagement-57.456]]\n",
    "col = ['metrics', 'before_test', 'after_test', 'absolute_difference']\n",
    "\n",
    "metrics = pd.DataFrame(data=exp, columns=col)\n",
    "#print(metrics)\n",
    "\n",
    "genre_rock = df[df['genre_name'] == 'rock']\n",
    "genre_rock = genre_rock[genre_rock['total_play_seconds'] != 0]\n",
    "genre_rock_max = genre_rock['total_play_seconds'].max()\n",
    "genre_rock_min = genre_rock['total_play_seconds'].min()\n",
    "\n",
    "col = ['genre', 'genre_rock_max', 'genre_rock_min']\n",
    "data = [['rock', genre_rock_max, genre_rock_min]]\n",
    "\n",
    "research_genres_result = pd.DataFrame(data=data, columns=col)\n",
    "print(research_genres_result)"
   ]
  },
  {
   "cell_type": "code",
   "execution_count": null,
   "id": "d5b4ed32",
   "metadata": {},
   "outputs": [],
   "source": []
  }
 ],
 "metadata": {
  "kernelspec": {
   "display_name": "Python 3 (ipykernel)",
   "language": "python",
   "name": "python3"
  },
  "language_info": {
   "codemirror_mode": {
    "name": "ipython",
    "version": 3
   },
   "file_extension": ".py",
   "mimetype": "text/x-python",
   "name": "python",
   "nbconvert_exporter": "python",
   "pygments_lexer": "ipython3",
   "version": "3.9.13"
  }
 },
 "nbformat": 4,
 "nbformat_minor": 5
}
