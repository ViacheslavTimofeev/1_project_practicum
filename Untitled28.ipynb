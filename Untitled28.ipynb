{
 "cells": [
  {
   "cell_type": "code",
   "execution_count": 38,
   "id": "8eaeb483",
   "metadata": {},
   "outputs": [
    {
     "name": "stdout",
     "output_type": "stream",
     "text": [
      "         Unnamed: 0  user_id  timestamp\n",
      "type_id                                \n",
      "1               311      311        311\n",
      "2               302      302        302\n",
      "3               606      606        606\n",
      "4               312      312        312\n",
      "5               586      586        586\n",
      "6               303      303        303\n",
      "7               283      283        283\n",
      "8               297      297        297\n"
     ]
    }
   ],
   "source": [
    "import pandas as pd\n",
    "\n",
    "support_log = pd.read_csv('D:\\support_log.csv')\n",
    "support_log_grouped = pd.read_csv('D:\\support_log_grouped.csv')\n",
    "#print(support_log_grouped)\n",
    "#print(support_log)\n",
    "support_log_grouped = support_log.groupby('type_id').count()\n",
    "print(support_log_grouped)\n",
    "def alert_group(messages):\n",
    "    if messages <= 300:\n",
    "        return 'средний'\n",
    "    if (messages > 301) & (messages <= 500):\n",
    "        return 'высокий'\n",
    "    return 'критичный'\n",
    "#print(alert_group(450))\n",
    "\n",
    "support_log_grouped['alert_group'] = support_log_grouped['user_id'].apply(alert_group)\n",
    "#print(support_log_grouped.groupby('alert_group').sum())\n",
    "#print(support_log_grouped.head(10))\n",
    "\n",
    "def alert_group_importance(row):\n",
    "    if (support_log_grouped['alert_group'] == 'средний') & (importance == 1)\n",
    "    "
   ]
  },
  {
   "cell_type": "code",
   "execution_count": null,
   "id": "62acca5e",
   "metadata": {},
   "outputs": [],
   "source": []
  }
 ],
 "metadata": {
  "kernelspec": {
   "display_name": "Python 3 (ipykernel)",
   "language": "python",
   "name": "python3"
  },
  "language_info": {
   "codemirror_mode": {
    "name": "ipython",
    "version": 3
   },
   "file_extension": ".py",
   "mimetype": "text/x-python",
   "name": "python",
   "nbconvert_exporter": "python",
   "pygments_lexer": "ipython3",
   "version": "3.9.13"
  }
 },
 "nbformat": 4,
 "nbformat_minor": 5
}
