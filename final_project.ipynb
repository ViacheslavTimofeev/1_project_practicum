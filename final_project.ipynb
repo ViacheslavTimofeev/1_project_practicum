{
 "cells": [
  {
   "cell_type": "code",
   "execution_count": 1,
   "id": "6e6993cd",
   "metadata": {},
   "outputs": [
    {
     "data": {
      "text/plain": [
       "genre\n",
       "pop            5892\n",
       "dance          4435\n",
       "rock           3965\n",
       "electronic     3786\n",
       "hip            2041\n",
       "classical      1616\n",
       "world          1432\n",
       "alternative    1379\n",
       "ruspop         1372\n",
       "rusrap         1161\n",
       "Name: genre, dtype: int64"
      ]
     },
     "metadata": {},
     "output_type": "display_data"
    },
    {
     "data": {
      "text/plain": [
       "genre\n",
       "pop            2431\n",
       "dance          1932\n",
       "rock           1879\n",
       "electronic     1736\n",
       "hip             934\n",
       "alternative     649\n",
       "classical       646\n",
       "rusrap          564\n",
       "ruspop          538\n",
       "world           515\n",
       "Name: genre, dtype: int64"
      ]
     },
     "metadata": {},
     "output_type": "display_data"
    }
   ],
   "source": [
    "import pandas as pd\n",
    "\n",
    "df = pd.read_csv('D:\\yandex_music_project.csv')\n",
    "#display(df.head(10))\n",
    "#print(df.info())\n",
    "#print(df.columns)\n",
    "df = df.rename(columns={'  userID':'user_id', 'Track':'track', '  City  ':'city', 'Day':'day'})\n",
    "#print(df.isna().sum())\n",
    "columns_to_replace = ['track', 'artist', 'genre']\n",
    "for col in columns_to_replace:\n",
    "    df[col] = df[col].fillna('unknown')\n",
    "df = df.drop_duplicates().reset_index(drop=True)\n",
    "#print(df.duplicated().sum())\n",
    "df_genre = df['genre'].sort_values()\n",
    "#print(df_genre.unique())\n",
    "wrong_genres = ['hip', 'hip-hop', 'hop']\n",
    "correct_genre = 'hiphop'\n",
    "def replace_wrong_genres(wrong_genres, correct_genre):\n",
    "    global df_genre_unique\n",
    "    df_genre_unique = df_genre.drop_duplicates()\n",
    "    for genre in df_genre_unique:\n",
    "        for wrong_genre in wrong_genres:\n",
    "            if genre == wrong_genre:\n",
    "                df_genre_unique = df_genre_unique.replace(wrong_genre, correct_genre)\n",
    "    return df_genre_unique\n",
    "                \n",
    "replace_wrong_genres(wrong_genres, correct_genre)\n",
    "#print(df_genre_unique)\n",
    "#print(df_genre_unique.unique())\n",
    "#saints_city = df[df['city'] == 'Saint-Petersburg']\n",
    "#moscow_city = df[df['city'] == 'Moscow']\n",
    "#saints_city_monday = saints_city[saints_city['day'] == 'Monday']\n",
    "#saints_city_wednesday = saints_city[saints_city['day'] == 'Wednesday']\n",
    "#saints_city_friday = saints_city[saints_city['day'] == 'Friday']\n",
    "#moscow_city_monday = moscow_city[moscow_city['day'] == 'Monday']\n",
    "#moscow_city_wednesday = moscow_city[moscow_city['day'] == 'Wednesday']\n",
    "#moscow_city_friday = moscow_city[moscow_city['day'] == 'Friday']\n",
    "#print(moscow_city_monday['city'].count(),moscow_city_wednesday['city'].count(), moscow_city_friday['city'].count(), saints_city_monday['city'].count(),saints_city_wednesday['city'].count(),saints_city_friday['city'].count(), sep='\\n')\n",
    "#print(saints_city['city'].count())\n",
    "#print(moscow_city['city'].count())\n",
    "#print(saints_city['time'].sum())\n",
    "\n",
    "def number_tracks(day, city):\n",
    "    track_list = df[df['day'] == day]\n",
    "    track_list = track_list[track_list['city'] == city]\n",
    "    track_list_count = track_list['user_id'].count()\n",
    "    \n",
    "    return 1\n",
    "\n",
    "#number_tracks('Friday', 'Saint-Petersburg')\n",
    "\n",
    "#days = ['city', ['monday', 'wednesday', 'friday']]\n",
    "#cities = [['Moscow', 'Saint-Petersburg'], 15740, 11056, 15945, 5614, 7003, 5895]\n",
    "#data_cities = pd.DataFrame(data=cities, columns=days)\n",
    "#print(data_cities)\n",
    "\n",
    "moscow_general = df[df['city'] == 'Moscow']\n",
    "spb_general = df[df['city'] == 'Saint-Petersburg']\n",
    "\n",
    "def genre_weekday(table, day, time1, time2):\n",
    "    genre_df = df[df['day'] == day]\n",
    "    genre_df = genre_df[genre_df['time'] > time1]\n",
    "    genre_df = genre_df[genre_df['time'] < time2]\n",
    "    genre_df = genre_df.groupby('genre')['genre']\n",
    "    genre_df_count = genre_df.count()\n",
    "    genre_df_sorted = genre_df_count.sort_values(ascending=False)\n",
    "    \n",
    "    return genre_df_sorted.head(10)\n",
    "\n",
    "#genre_weekday(moscow_general, 'Monday', '07:00', '11:00')\n",
    "#genre_weekday(spb_general, 'Monday', '07:00', '11:00')\n",
    "#genre_weekday(moscow_general, 'Friday', '17:00', '23:00')\n",
    "#genre_weekday(spb_general, 'Friday', '17:00', '23:00')\n",
    "\n",
    "moscow_general = moscow_general.groupby('genre')['genre']\n",
    "moscow_count = moscow_general.count()\n",
    "moscow_genres = moscow_count.sort_values(ascending=False)\n",
    "display(moscow_genres.head(10))\n",
    "\n",
    "spb_general = spb_general.groupby('genre')['genre']\n",
    "spb_count = spb_general.count()\n",
    "spb_genres = spb_count.sort_values(ascending=False)\n",
    "display(spb_genres.head(10))"
   ]
  },
  {
   "cell_type": "code",
   "execution_count": 6,
   "id": "bc7303f9",
   "metadata": {},
   "outputs": [
    {
     "ename": "NameError",
     "evalue": "name 'wrong_genres' is not defined",
     "output_type": "error",
     "traceback": [
      "\u001b[1;31m---------------------------------------------------------------------------\u001b[0m",
      "\u001b[1;31mNameError\u001b[0m                                 Traceback (most recent call last)",
      "Cell \u001b[1;32mIn [6], line 28\u001b[0m\n\u001b[0;32m     25\u001b[0m                 df_genre_unique \u001b[38;5;241m=\u001b[39m df_genre_unique\u001b[38;5;241m.\u001b[39mreplace(wrong_genre, correct_genre)\n\u001b[0;32m     26\u001b[0m     \u001b[38;5;28;01mreturn\u001b[39;00m \u001b[38;5;241m1\u001b[39m\n\u001b[1;32m---> 28\u001b[0m replace_wrong_genres(\u001b[43mwrong_genres\u001b[49m, correct_genre)\n\u001b[0;32m     29\u001b[0m \u001b[38;5;28mprint\u001b[39m(df_genre_unique)\n\u001b[0;32m     30\u001b[0m \u001b[38;5;28mprint\u001b[39m(df_genre_unique\u001b[38;5;241m.\u001b[39munique())\n",
      "\u001b[1;31mNameError\u001b[0m: name 'wrong_genres' is not defined"
     ]
    }
   ],
   "source": [
    "\n"
   ]
  },
  {
   "cell_type": "code",
   "execution_count": null,
   "id": "c0004671",
   "metadata": {},
   "outputs": [],
   "source": []
  }
 ],
 "metadata": {
  "kernelspec": {
   "display_name": "Python 3 (ipykernel)",
   "language": "python",
   "name": "python3"
  },
  "language_info": {
   "codemirror_mode": {
    "name": "ipython",
    "version": 3
   },
   "file_extension": ".py",
   "mimetype": "text/x-python",
   "name": "python",
   "nbconvert_exporter": "python",
   "pygments_lexer": "ipython3",
   "version": "3.9.13"
  }
 },
 "nbformat": 4,
 "nbformat_minor": 5
}
