{
 "cells": [
  {
   "cell_type": "code",
   "execution_count": 13,
   "id": "de1e6cdc",
   "metadata": {},
   "outputs": [
    {
     "name": "stdout",
     "output_type": "stream",
     "text": [
      "source                                                            direct  \\\n",
      "category_name              subcategory_name                                \n",
      "Бытовая техника            Оверлоки и распошивальные машины  1536.538201   \n",
      "Товары для дома            Компьютерные и письменные столы   1999.746292   \n",
      "                           Люстры                            2016.662654   \n",
      "Строительство и ремонт     Дисковые пилы                     2040.251241   \n",
      "                           Воздушные компрессоры             1690.492249   \n",
      "Товары для здоровья        Бандажи и ортезы                  1659.195233   \n",
      "Электроника                Защитные пленки и стекла          1560.395673   \n",
      "Строительство и ремонт     Нивелиры и лазерные уровни        1651.947395   \n",
      "Одежда, обувь и аксессуары Туфли                             1036.253838   \n",
      "                           Сапоги                            1009.586105   \n",
      "\n",
      "source                                                           organic  \\\n",
      "category_name              subcategory_name                                \n",
      "Бытовая техника            Оверлоки и распошивальные машины  3215.115336   \n",
      "Товары для дома            Компьютерные и письменные столы   4177.299231   \n",
      "                           Люстры                            4209.611976   \n",
      "Строительство и ремонт     Дисковые пилы                     4255.639872   \n",
      "                           Воздушные компрессоры             3520.404831   \n",
      "Товары для здоровья        Бандажи и ортезы                  3453.165773   \n",
      "Электроника                Защитные пленки и стекла          3246.629811   \n",
      "Строительство и ремонт     Нивелиры и лазерные уровни        3436.972506   \n",
      "Одежда, обувь и аксессуары Туфли                             2097.368209   \n",
      "                           Сапоги                            2021.903456   \n",
      "\n",
      "source                                                          ratio  \n",
      "category_name              subcategory_name                            \n",
      "Бытовая техника            Оверлоки и распошивальные машины  2.092441  \n",
      "Товары для дома            Компьютерные и письменные столы   2.088915  \n",
      "                           Люстры                            2.087415  \n",
      "Строительство и ремонт     Дисковые пилы                     2.085841  \n",
      "                           Воздушные компрессоры             2.082473  \n",
      "Товары для здоровья        Бандажи и ортезы                  2.081229  \n",
      "Электроника                Защитные пленки и стекла          2.080645  \n",
      "Строительство и ремонт     Нивелиры и лазерные уровни        2.080558  \n",
      "Одежда, обувь и аксессуары Туфли                             2.023991  \n",
      "                           Сапоги                            2.002705  \n"
     ]
    }
   ],
   "source": [
    "import pandas as pd\n",
    "\n",
    "data = pd.read_excel('D:\\seo_data.xlsx', sheet_name='traffic_data')\n",
    "subcategory_dict = pd.read_excel('D:\\seo_data.xlsx', sheet_name='subcategory_ids')\n",
    "data_subcategory = data.merge(subcategory_dict, on='subcategory_id', how='left')\n",
    "category_dict = pd.read_excel('D:\\seo_data.xlsx', sheet_name='category_ids')\n",
    "data_final = data_subcategory.merge(category_dict, on='category_id', how='left')\n",
    "pivot_data_final = data_final.pivot_table(index=['category_name', 'subcategory_name'], columns='source', values='visits', aggfunc='sum')\n",
    "pivot_data_final['ratio'] = pivot_data_final['organic'] / pivot_data_final['direct']\n",
    "pivot_data_final = pivot_data_final.sort_values(by='ratio', ascending=False)\n",
    "print(pivot_data_final[pivot_data_final['direct'] > 1000].tail(10))"
   ]
  },
  {
   "cell_type": "code",
   "execution_count": null,
   "id": "df649a67",
   "metadata": {},
   "outputs": [],
   "source": []
  }
 ],
 "metadata": {
  "kernelspec": {
   "display_name": "Python 3 (ipykernel)",
   "language": "python",
   "name": "python3"
  },
  "language_info": {
   "codemirror_mode": {
    "name": "ipython",
    "version": 3
   },
   "file_extension": ".py",
   "mimetype": "text/x-python",
   "name": "python",
   "nbconvert_exporter": "python",
   "pygments_lexer": "ipython3",
   "version": "3.9.13"
  }
 },
 "nbformat": 4,
 "nbformat_minor": 5
}
