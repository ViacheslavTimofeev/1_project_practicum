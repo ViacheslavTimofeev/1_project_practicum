{
 "cells": [
  {
   "cell_type": "code",
   "execution_count": 2,
   "id": "0d5ba5eb-a8e7-41b7-a7d3-75989264fd08",
   "metadata": {},
   "outputs": [
    {
     "name": "stdout",
     "output_type": "stream",
     "text": [
      "0.15 0.255 0.2003\n"
     ]
    }
   ],
   "source": [
    "import random\n",
    "\n",
    "random.seed(1111)  # метод seed() задаёт степень случайности, не меняйте её\n",
    "\n",
    "def calculate_p(N):\n",
    "    cnt_21_40 = 0\n",
    "    for i in range(N):\n",
    "        random_integer = random.randint(1, 100)\n",
    "        if 21 <= random_integer <= 40:\n",
    "            cnt_21_40 += 1\n",
    "    return cnt_21_40 / N\n",
    "p_20 = calculate_p(20)\n",
    "p_400 = calculate_p(400)\n",
    "p_10000 = calculate_p(10000)\n",
    "print(p_20, p_400, p_10000)"
   ]
  },
  {
   "cell_type": "code",
   "execution_count": null,
   "id": "57fc82b0-4754-4307-8081-346f1435e68d",
   "metadata": {},
   "outputs": [],
   "source": []
  }
 ],
 "metadata": {
  "kernelspec": {
   "display_name": "Python 3 (ipykernel)",
   "language": "python",
   "name": "python3"
  },
  "language_info": {
   "codemirror_mode": {
    "name": "ipython",
    "version": 3
   },
   "file_extension": ".py",
   "mimetype": "text/x-python",
   "name": "python",
   "nbconvert_exporter": "python",
   "pygments_lexer": "ipython3",
   "version": "3.9.13"
  }
 },
 "nbformat": 4,
 "nbformat_minor": 5
}
