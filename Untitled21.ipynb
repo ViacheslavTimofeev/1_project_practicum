{
 "cells": [
  {
   "cell_type": "code",
   "execution_count": 43,
   "id": "d256fa75",
   "metadata": {},
   "outputs": [
    {
     "name": "stdout",
     "output_type": "stream",
     "text": [
      "        purchase       conversion\n",
      "           count   sum           \n",
      "source                           \n",
      "context    52032  3029   0.058214\n",
      "email      13953  1021   0.073174\n",
      "other     134015  8053   0.060090\n"
     ]
    }
   ],
   "source": [
    "import pandas as pd\n",
    "\n",
    "logs = pd.read_csv('D:\\logs.csv')\n",
    "logs['email'] = logs['email'].fillna(value='')\n",
    "logs.loc[logs['source'] == 'None', 'source'] = 'email'\n",
    "logs.loc[logs['source'] == 'undef', 'source'] = 'other'\n",
    "logs_grouped = logs.groupby('source').agg({'purchase' : ['count', 'sum']})\n",
    "logs_grouped['conversion'] = logs_grouped['purchase']['sum'] / logs_grouped['purchase']['count']\n",
    "print(logs_grouped)\n",
    "#print(logs.columns)\n",
    "\n"
   ]
  },
  {
   "cell_type": "code",
   "execution_count": 66,
   "id": "ab5c37ae",
   "metadata": {},
   "outputs": [
    {
     "name": "stdout",
     "output_type": "stream",
     "text": [
      "41.15691239238949\n",
      "1741.8747158537378\n"
     ]
    }
   ],
   "source": [
    "import pandas as pd\n",
    "\n",
    "metrica = pd.read_csv('D:\\metrica_data.csv')\n",
    "age_avg = metrica['age'].mean()\n",
    "metrica['age'] = metrica['age'].fillna(age_avg)\n",
    "time_avg = metrica['time'].mean()\n",
    "desktop_data = metrica[metrica['device_type'] == 'desktop']\n",
    "desktop_data_time_avg = desktop_data['time'].mean()\n",
    "mobile_data = metrica[metrica['device_type'] == 'mobile']\n",
    "mobile_data_time_avg = mobile_data['time'].mean()\n",
    "print(mobile_data_time_avg)\n",
    "print(desktop_data_time_avg)\n",
    "#print(metrica['device_type'].value_counts())\n",
    "#print(desktop_data_time_avg)\n",
    "#print(metrica.columns)\n",
    "#print(desktop_data.head())\n",
    "\n"
   ]
  },
  {
   "cell_type": "code",
   "execution_count": null,
   "id": "b46a934c",
   "metadata": {},
   "outputs": [],
   "source": []
  }
 ],
 "metadata": {
  "kernelspec": {
   "display_name": "Python 3 (ipykernel)",
   "language": "python",
   "name": "python3"
  },
  "language_info": {
   "codemirror_mode": {
    "name": "ipython",
    "version": 3
   },
   "file_extension": ".py",
   "mimetype": "text/x-python",
   "name": "python",
   "nbconvert_exporter": "python",
   "pygments_lexer": "ipython3",
   "version": "3.9.13"
  }
 },
 "nbformat": 4,
 "nbformat_minor": 5
}
