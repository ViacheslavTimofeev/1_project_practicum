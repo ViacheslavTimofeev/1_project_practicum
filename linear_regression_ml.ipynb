{
 "cells": [
  {
   "cell_type": "code",
   "execution_count": 17,
   "id": "c4969856-38ee-47cf-b790-c9b9b1e1f54e",
   "metadata": {},
   "outputs": [
    {
     "name": "stdout",
     "output_type": "stream",
     "text": [
      "RMSE модели линейной регрессии на валидационной выборке: 7.726006697008082\n"
     ]
    }
   ],
   "source": [
    "import pandas as pd\n",
    "from sklearn.linear_model import LinearRegression\n",
    "from sklearn.model_selection import train_test_split\n",
    "from sklearn.metrics import mean_squared_error\n",
    "\n",
    "df = pd.read_csv('D:/train_data.csv')\n",
    "\n",
    "features = df.drop(['last_price'], axis=1)\n",
    "target = df['last_price'] / 1000000\n",
    "\n",
    "features_train, features_valid, target_train, target_valid = train_test_split(features, target, test_size=0.25, random_state=12345) # отделите 25% данных для валидационной выборки\n",
    "\n",
    "model = LinearRegression()#(random_state=12345, solver='lbfgs', max_iter=1000)\n",
    "model.fit(features_train, target_train) # обучите модель на тренировочной выборке\n",
    "predictions_valid = model.predict(features_valid) # получите предсказания модели на валидационной выборке\n",
    "result = mean_squared_error(target_valid, predictions_valid)\n",
    "print(\"RMSE модели линейной регрессии на валидационной выборке:\", result**0.5)"
   ]
  },
  {
   "cell_type": "code",
   "execution_count": null,
   "id": "ebb3eeea-10ab-415c-95d0-8ba41d8714bc",
   "metadata": {},
   "outputs": [],
   "source": []
  }
 ],
 "metadata": {
  "kernelspec": {
   "display_name": "Python 3 (ipykernel)",
   "language": "python",
   "name": "python3"
  },
  "language_info": {
   "codemirror_mode": {
    "name": "ipython",
    "version": 3
   },
   "file_extension": ".py",
   "mimetype": "text/x-python",
   "name": "python",
   "nbconvert_exporter": "python",
   "pygments_lexer": "ipython3",
   "version": "3.9.13"
  }
 },
 "nbformat": 4,
 "nbformat_minor": 5
}
