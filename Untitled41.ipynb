{
 "cells": [
  {
   "cell_type": "code",
   "execution_count": 1,
   "id": "16f8c04f-07b6-4d0a-b259-67f0a3f68968",
   "metadata": {},
   "outputs": [
    {
     "name": "stdout",
     "output_type": "stream",
     "text": [
      "35.0\n"
     ]
    }
   ],
   "source": [
    "from math import factorial\n",
    "\n",
    "n_diets = factorial(7) / (factorial(3) * factorial(4))\n",
    "print(n_diets)\n",
    "\n",
    "# Число способов выбрать k дней из n дней:\n",
    "# C(n, k) =  n! / ( k! * (n-k)! )"
   ]
  },
  {
   "cell_type": "code",
   "execution_count": null,
   "id": "2aba5478-3bbc-4d58-bb0c-8179f17379ea",
   "metadata": {},
   "outputs": [],
   "source": []
  }
 ],
 "metadata": {
  "kernelspec": {
   "display_name": "Python 3 (ipykernel)",
   "language": "python",
   "name": "python3"
  },
  "language_info": {
   "codemirror_mode": {
    "name": "ipython",
    "version": 3
   },
   "file_extension": ".py",
   "mimetype": "text/x-python",
   "name": "python",
   "nbconvert_exporter": "python",
   "pygments_lexer": "ipython3",
   "version": "3.9.13"
  }
 },
 "nbformat": 4,
 "nbformat_minor": 5
}
