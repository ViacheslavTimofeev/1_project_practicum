{
 "cells": [
  {
   "cell_type": "code",
   "execution_count": 50,
   "id": "535c970d",
   "metadata": {},
   "outputs": [
    {
     "name": "stdout",
     "output_type": "stream",
     "text": [
      "          id                              item  count  \\\n",
      "0  100480924     Смартфон Xiaomi Redmi 6A 16GB     44   \n",
      "1  100480938  Смартфон Samsung Galaxy A30 32GB     60   \n",
      "2  100480959          Смартфон HUAWEI P30 lite     38   \n",
      "3  100480975     Смартфон Apple iPhone Xr 64gb     29   \n",
      "4  100480988            Смартфон Honor 8X 64GB     64   \n",
      "\n",
      "                     item_lowercase  \n",
      "0     смартфон xiaomi redmi 6a 16gb  \n",
      "1  смартфон samsung galaxy a30 32gb  \n",
      "2          смартфон huawei p30 lite  \n",
      "3     смартфон apple iphone xr 64gb  \n",
      "4            смартфон honor 8x 64gb  \n"
     ]
    }
   ],
   "source": [
    "import pandas as pd\n",
    "\n",
    "stock = pd.read_excel('D:\\stock.xlsx')\n",
    "xiaomi = stock[stock['item'] == 'Смартфон Xiaomi Redmi 6A 16GB']['count'].sum()\n",
    "huawei = stock[stock['item'] == 'Смартфон HUAWEI P30 lite']['count'].sum()\n",
    "stock['item'] = stock['item'].drop_duplicates()\n",
    "stock = stock.dropna().reset_index(drop=True)\n",
    "stock.loc[0, 'count'] = xiaomi\n",
    "stock.loc[3, 'count'] = huawei\n",
    "stock['item_lowercase'] = stock['item'].str.lower()\n",
    "apple = stock[stock['item_lowercase'] == 'смартфон apple iphone xr 64gb']['count'].sum()\n",
    "samsung = stock[stock['item_lowercase'] == 'смартфон samsung galaxy a30 32gb']['count'].sum()\n",
    "stock['item_lowercase'] = stock['item_lowercase'].drop_duplicates()\n",
    "stock = stock.dropna().reset_index(drop=True)\n",
    "stock.loc[3, 'count'] = apple\n",
    "stock.loc[1, 'count'] = samsung\n",
    "print(stock)"
   ]
  },
  {
   "cell_type": "code",
   "execution_count": null,
   "id": "5dd08690",
   "metadata": {},
   "outputs": [],
   "source": []
  },
  {
   "cell_type": "code",
   "execution_count": null,
   "id": "02b2f4b0",
   "metadata": {},
   "outputs": [],
   "source": []
  }
 ],
 "metadata": {
  "kernelspec": {
   "display_name": "Python 3 (ipykernel)",
   "language": "python",
   "name": "python3"
  },
  "language_info": {
   "codemirror_mode": {
    "name": "ipython",
    "version": 3
   },
   "file_extension": ".py",
   "mimetype": "text/x-python",
   "name": "python",
   "nbconvert_exporter": "python",
   "pygments_lexer": "ipython3",
   "version": "3.9.13"
  }
 },
 "nbformat": 4,
 "nbformat_minor": 5
}
