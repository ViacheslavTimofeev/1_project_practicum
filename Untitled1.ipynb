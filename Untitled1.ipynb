{
 "cells": [
  {
   "cell_type": "code",
   "execution_count": 1,
   "id": "dfda2854",
   "metadata": {},
   "outputs": [
    {
     "name": "stdout",
     "output_type": "stream",
     "text": [
      "СССР\n",
      "1994\n",
      "8.73\n"
     ]
    }
   ],
   "source": [
    "movies_table = [\n",
    "\n",
    "    ['Побег из Шоушенка', 'США', 1994, 'драма', 142, 9.111],\n",
    "    ['Крёстный отец', 'США', 1972, 'драма, криминал', 175, 8.730],\n",
    "    ['Тёмный рыцарь', 'США', 2008, 'фантастика, боевик, триллер', 152, 8.499],\n",
    "    ['Список Шиндлера', 'США', 1993, 'драма', 195, 8.818],\n",
    "    ['Властелин колец: Возвращение Короля', 'Новая Зеландия', 2003, 'фэнтези, приключения, драма', 201, 8.625],\n",
    "    ['Криминальное чтиво', 'США', 1994, 'триллер, комедия, криминал', 154, 8.619],\n",
    "    ['Хороший, плохой, злой', 'Италия', 1966, 'вестерн', 178, 8.521],\n",
    "    ['Бойцовский клуб', 'США', 1999, 'триллер, драма, криминал', 139, 8.644],\n",
    "    ['Харакири', 'Япония', 1962, 'драма, боевик, история', 133, 8.106],\n",
    "    ['Сталкер', 'СССР', 1979, 'фантастика, драма, детектив', 163, 8.083],\n",
    "    ['Иди и смотри', 'СССР', 1985, 'драма, военный', 136, 8.094]\n",
    "\n",
    "]\n",
    "print(movies_table[-2][1])\n",
    "print(movies_table[5][2])\n",
    "print(movies_table[1][-1])"
   ]
  },
  {
   "cell_type": "code",
   "execution_count": 2,
   "id": "4c622117",
   "metadata": {},
   "outputs": [
    {
     "name": "stdout",
     "output_type": "stream",
     "text": [
      "драма\n",
      "драма, криминал\n",
      "фантастика, боевик, триллер\n",
      "драма\n",
      "фэнтези, приключения, драма\n",
      "триллер, комедия, криминал\n",
      "вестерн\n",
      "триллер, драма, криминал\n",
      "драма, боевик, история\n",
      "фантастика, драма, детектив\n",
      "драма, военный\n"
     ]
    }
   ],
   "source": [
    "for row in movies_table:\n",
    "    print(row[3])"
   ]
  },
  {
   "cell_type": "code",
   "execution_count": 4,
   "id": "19e3bce7",
   "metadata": {},
   "outputs": [
    {
     "name": "stdout",
     "output_type": "stream",
     "text": [
      "1994\n",
      "1972\n",
      "2008\n",
      "1993\n",
      "2003\n",
      "1994\n",
      "1966\n",
      "1999\n",
      "1962\n",
      "1979\n",
      "1985\n"
     ]
    }
   ],
   "source": [
    "for row in movies_table:\n",
    "    print(row[2])"
   ]
  },
  {
   "cell_type": "code",
   "execution_count": 7,
   "id": "fada779a",
   "metadata": {},
   "outputs": [
    {
     "name": "stdout",
     "output_type": "stream",
     "text": [
      "X  X  O  \n",
      "O  X  O  \n",
      "O  X  X  \n"
     ]
    }
   ],
   "source": [
    "field = [['X', 'X', 'O'], ['O', 'X', 'O'], ['O', 'X', 'X']]\n",
    "for row in field:\n",
    "    for col in row:\n",
    "        print(col, end = '  ')\n",
    "    print()"
   ]
  },
  {
   "cell_type": "code",
   "execution_count": null,
   "id": "9e98a756",
   "metadata": {},
   "outputs": [],
   "source": []
  }
 ],
 "metadata": {
  "kernelspec": {
   "display_name": "Python 3 (ipykernel)",
   "language": "python",
   "name": "python3"
  },
  "language_info": {
   "codemirror_mode": {
    "name": "ipython",
    "version": 3
   },
   "file_extension": ".py",
   "mimetype": "text/x-python",
   "name": "python",
   "nbconvert_exporter": "python",
   "pygments_lexer": "ipython3",
   "version": "3.9.13"
  }
 },
 "nbformat": 4,
 "nbformat_minor": 5
}
