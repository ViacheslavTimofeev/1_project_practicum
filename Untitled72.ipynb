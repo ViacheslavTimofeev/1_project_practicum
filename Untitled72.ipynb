{
 "cells": [
  {
   "cell_type": "code",
   "execution_count": 7,
   "id": "c0b55afa-4f91-405e-887f-713b4323e38d",
   "metadata": {},
   "outputs": [
    {
     "name": "stdout",
     "output_type": "stream",
     "text": [
      "0.13333333333333333\n"
     ]
    }
   ],
   "source": [
    "import pandas as pd\n",
    "from sklearn.model_selection import train_test_split\n",
    "from sklearn.utils import shuffle\n",
    "from sklearn.metrics import f1_score\n",
    "from sklearn.linear_model import LogisticRegression\n",
    "\n",
    "data = pd.read_csv('D:/travel_insurance_preprocessed.csv')\n",
    "\n",
    "target = data['Claim']\n",
    "features = data.drop('Claim', axis=1)\n",
    "\n",
    "features_train, features_valid, target_train, target_valid = train_test_split(features, target, test_size=0.25, random_state=12345)\n",
    "\n",
    "def downsample(features, target, fraction):\n",
    "    features_zeros = features[target == 0]\n",
    "    features_ones = features[target == 1]\n",
    "    target_zeros = target[target == 0]\n",
    "    target_ones = target[target == 1]\n",
    "    \n",
    "    features_zeros = features_zeros.sample(frac=fraction, random_state=12345)\n",
    "    target_zeros = target_zeros.sample(frac=fraction, random_state=12345)\n",
    "    \n",
    "    features_downsampled = pd.concat([features_zeros] + [features_ones])\n",
    "    target_downsampled = pd.concat([target_zeros] + [target_ones])\n",
    "    return features_downsampled, target_downsampled\n",
    "\n",
    "features_downsampled, target_downsampled = downsample(features_train, target_train, 0.1)\n",
    "\n",
    "model = LogisticRegression(solver='liblinear', random_state=12345)\n",
    "model.fit(features_downsampled, target_downsampled)\n",
    "predict = model.predict(features_valid)\n",
    "print(f1_score(target_valid, predict))"
   ]
  },
  {
   "cell_type": "code",
   "execution_count": null,
   "id": "38a8d7d1-78bd-460a-ae2e-abe6e04402d6",
   "metadata": {},
   "outputs": [],
   "source": []
  }
 ],
 "metadata": {
  "kernelspec": {
   "display_name": "Python 3 (ipykernel)",
   "language": "python",
   "name": "python3"
  },
  "language_info": {
   "codemirror_mode": {
    "name": "ipython",
    "version": 3
   },
   "file_extension": ".py",
   "mimetype": "text/x-python",
   "name": "python",
   "nbconvert_exporter": "python",
   "pygments_lexer": "ipython3",
   "version": "3.9.13"
  }
 },
 "nbformat": 4,
 "nbformat_minor": 5
}
