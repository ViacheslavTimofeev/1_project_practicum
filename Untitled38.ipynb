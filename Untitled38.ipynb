{
 "cells": [
  {
   "cell_type": "code",
   "execution_count": 3,
   "id": "1059f64e-e9c3-4dff-87c8-2a1b58f96a70",
   "metadata": {},
   "outputs": [
    {
     "name": "stdout",
     "output_type": "stream",
     "text": [
      "{10: 0.027777777777777776, 11: 0.05555555555555555, 12: 0.08333333333333333, 13: 0.1111111111111111, 14: 0.1388888888888889, 15: 0.16666666666666666, 16: 0.1388888888888889, 17: 0.1111111111111111, 18: 0.08333333333333333, 19: 0.05555555555555555, 20: 0.027777777777777776}\n",
      "36\n"
     ]
    }
   ],
   "source": [
    "import numpy as np\n",
    "\n",
    "spot_matrix = np.array(\n",
    "    [\n",
    "        [10, 11, 12, 13, 14, 15],\n",
    "        [11, 12, 13, 14, 15, 16],\n",
    "        [12, 13, 14, 15, 16, 17],\n",
    "        [13, 14, 15, 16, 17, 18],\n",
    "        [14, 15, 16, 17, 18, 19],\n",
    "        [15, 16, 17, 18, 19, 20],\n",
    "    ]\n",
    ")\n",
    "\n",
    "spot_counts = {}\n",
    "\n",
    "for i in range(0, 6):\n",
    "    for j in range(0, 6):\n",
    "        if spot_matrix[i][j] not in spot_counts.keys():\n",
    "            spot_counts[spot_matrix[i][j]] = 1\n",
    "        else:\n",
    "            spot_counts[spot_matrix[i][j]] += 1\n",
    "\n",
    "spot_probs = {k:spot_counts[k]/36 for k in spot_counts}\n",
    "\n",
    "print(spot_probs)\n",
    "print(sum(spot_counts.values()))\n",
    "    "
   ]
  },
  {
   "cell_type": "code",
   "execution_count": null,
   "id": "50889073-e35a-441d-9b29-0c6a966b4b6c",
   "metadata": {},
   "outputs": [],
   "source": []
  }
 ],
 "metadata": {
  "kernelspec": {
   "display_name": "Python 3 (ipykernel)",
   "language": "python",
   "name": "python3"
  },
  "language_info": {
   "codemirror_mode": {
    "name": "ipython",
    "version": 3
   },
   "file_extension": ".py",
   "mimetype": "text/x-python",
   "name": "python",
   "nbconvert_exporter": "python",
   "pygments_lexer": "ipython3",
   "version": "3.9.13"
  }
 },
 "nbformat": 4,
 "nbformat_minor": 5
}
