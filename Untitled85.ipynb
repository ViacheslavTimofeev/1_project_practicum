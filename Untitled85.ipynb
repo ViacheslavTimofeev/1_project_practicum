{
 "cells": [
  {
   "cell_type": "code",
   "execution_count": 9,
   "id": "8afec5fb-a82a-4eb4-8ab8-794c781cd015",
   "metadata": {},
   "outputs": [
    {
     "name": "stdout",
     "output_type": "stream",
     "text": [
      "<class 'pandas.core.frame.DataFrame'>\n",
      "RangeIndex: 50660 entries, 0 to 50659\n",
      "Data columns (total 11 columns):\n",
      " #   Column                 Non-Null Count  Dtype  \n",
      "---  ------                 --------------  -----  \n",
      " 0   Agency                 50660 non-null  object \n",
      " 1   Agency Type            50660 non-null  object \n",
      " 2   Distribution Channel   50660 non-null  object \n",
      " 3   Product Name           50660 non-null  object \n",
      " 4   Claim                  50660 non-null  int64  \n",
      " 5   Duration               50660 non-null  int64  \n",
      " 6   Destination            50660 non-null  object \n",
      " 7   Net Sales              50660 non-null  float64\n",
      " 8   Commission (in value)  50660 non-null  float64\n",
      " 9   Gender                 50660 non-null  object \n",
      " 10  Age                    50660 non-null  int64  \n",
      "dtypes: float64(2), int64(3), object(6)\n",
      "memory usage: 4.3+ MB\n",
      "None\n",
      "142\n"
     ]
    }
   ],
   "source": [
    "import pandas\n",
    "data = pandas.read_csv('D:/travel_insurance.csv')\n",
    "print(data.info())\n",
    "print(data['Destination'].value_counts().count())"
   ]
  },
  {
   "cell_type": "code",
   "execution_count": null,
   "id": "d4bf8455-7f6e-4eb9-94b2-3b420ffe61f8",
   "metadata": {},
   "outputs": [],
   "source": []
  }
 ],
 "metadata": {
  "kernelspec": {
   "display_name": "Python 3 (ipykernel)",
   "language": "python",
   "name": "python3"
  },
  "language_info": {
   "codemirror_mode": {
    "name": "ipython",
    "version": 3
   },
   "file_extension": ".py",
   "mimetype": "text/x-python",
   "name": "python",
   "nbconvert_exporter": "python",
   "pygments_lexer": "ipython3",
   "version": "3.9.13"
  }
 },
 "nbformat": 4,
 "nbformat_minor": 5
}
