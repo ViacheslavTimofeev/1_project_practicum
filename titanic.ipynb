{
 "cells": [
  {
   "cell_type": "code",
   "execution_count": 53,
   "id": "07cb9e28-740d-4f13-8fa4-70229b92bad8",
   "metadata": {},
   "outputs": [
    {
     "name": "stdout",
     "output_type": "stream",
     "text": [
      "     PassengerId  Survived\n",
      "0            892         0\n",
      "1            893         0\n",
      "2            894         0\n",
      "3            895         0\n",
      "4            896         1\n",
      "..           ...       ...\n",
      "413         1305         0\n",
      "414         1306         1\n",
      "415         1307         0\n",
      "416         1308         0\n",
      "417         1309         0\n",
      "\n",
      "[418 rows x 2 columns]\n",
      "     PassengerId  Survived\n",
      "0            892         0\n",
      "1            893         0\n",
      "2            894         0\n",
      "3            895         0\n",
      "4            896         1\n",
      "..           ...       ...\n",
      "413         1305         0\n",
      "414         1306         1\n",
      "415         1307         0\n",
      "416         1308         0\n",
      "417         1309         0\n",
      "\n",
      "[418 rows x 2 columns]\n"
     ]
    }
   ],
   "source": [
    "import pandas as pd\n",
    "from sklearn.model_selection import train_test_split\n",
    "from sklearn.linear_model import LogisticRegression\n",
    "from sklearn.tree import DecisionTreeClassifier\n",
    "from sklearn.ensemble import RandomForestClassifier\n",
    "from sklearn.metrics import f1_score\n",
    "from sklearn.metrics import accuracy_score\n",
    "import numpy as np\n",
    "\n",
    "np.random.seed(12345)\n",
    "\n",
    "data_train = pd.read_csv('D:/train_titanic.csv')\n",
    "data_test = pd.read_csv('D:/test_titanic.csv')\n",
    "\n",
    "data_train = data_train.drop(['Name', 'Cabin', 'Ticket'], axis=1)\n",
    "data_train['Age'] = data_train['Age'].fillna(float('{:.3f}'.format(data_train['Age'].mean())))\n",
    "\n",
    "data_test = data_test.drop(['Name', 'Cabin', 'Ticket'], axis=1)\n",
    "data_test['Age'] = data_test['Age'].fillna(float('{:.3f}'.format(data_test['Age'].mean())))\n",
    "data_test = data_test.fillna(data_test['Fare'].mean())\n",
    "\n",
    "data_train = pd.get_dummies(data_train, drop_first=True)\n",
    "data_test = pd.get_dummies(data_test, drop_first=True)\n",
    "\n",
    "features = data_train.drop('Survived', axis=1)\n",
    "target = data_train['Survived']\n",
    "\n",
    "features_train, features_valid, target_train, target_valid = train_test_split(features, target, test_size=0.25)\n",
    "\n",
    "model_forest = RandomForestClassifier(class_weight='balanced', n_estimators=17, max_depth=6)\n",
    "model_forest.fit(features_train, target_train)\n",
    "forest_predict = model_forest.predict(features_valid)\n",
    "score = accuracy_score(target_valid, forest_predict)\n",
    "\n",
    "forest_test_predict = model_forest.predict(data_test)\n",
    "\n",
    "data_const = {'PassengerId': data_test['PassengerId']}\n",
    "final_test_df = pd.DataFrame(data=data_const)\n",
    "final_test_df['Survived'] = forest_test_predict\n",
    "print(final_test_df)\n",
    "\n",
    "final_test_df.to_csv('final_test_df.csv', index=False)\n",
    "#display(data_test.info())\n",
    "#display(data_test.info())\n",
    "tst = pd.read_csv('C:/Users/User/final_test_df.csv')\n",
    "print(tst)"
   ]
  },
  {
   "cell_type": "code",
   "execution_count": null,
   "id": "53aad27a-18f9-4ba0-be8f-5653861dc5be",
   "metadata": {},
   "outputs": [],
   "source": []
  }
 ],
 "metadata": {
  "kernelspec": {
   "display_name": "Python 3 (ipykernel)",
   "language": "python",
   "name": "python3"
  },
  "language_info": {
   "codemirror_mode": {
    "name": "ipython",
    "version": 3
   },
   "file_extension": ".py",
   "mimetype": "text/x-python",
   "name": "python",
   "nbconvert_exporter": "python",
   "pygments_lexer": "ipython3",
   "version": "3.9.13"
  }
 },
 "nbformat": 4,
 "nbformat_minor": 5
}
