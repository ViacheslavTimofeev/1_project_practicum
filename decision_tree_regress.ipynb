{
 "cells": [
  {
   "cell_type": "code",
   "execution_count": 5,
   "id": "0f58773d-7535-47d3-8585-294a74f69e83",
   "metadata": {},
   "outputs": [
    {
     "name": "stdout",
     "output_type": "stream",
     "text": [
      "RMSE наилучшей модели на валидационной выборке: 6.541293218939626 Глубина дерева: 5\n"
     ]
    }
   ],
   "source": [
    "import pandas as pd\n",
    "from sklearn.tree import DecisionTreeRegressor\n",
    "from sklearn.model_selection import train_test_split\n",
    "from sklearn.metrics import mean_squared_error\n",
    "\n",
    "df = pd.read_csv('D:/train_data.csv')\n",
    "\n",
    "features = df.drop(['last_price'], axis=1)\n",
    "target = df['last_price'] / 1000000\n",
    "\n",
    "features_train, features_valid, target_train, target_valid = train_test_split(features, target, test_size=0.25, random_state=12345) # отделите 25% данных для валидационной выборки\n",
    "\n",
    "best_model = None\n",
    "best_result = 10000\n",
    "best_depth = 0\n",
    "for depth in range(1, 6):\n",
    "    model = DecisionTreeRegressor(random_state=12345, max_depth=depth)# инициализируйте модель DecisionTreeRegressor с параметром random_state=12345 и max_depth=depth\n",
    "    model.fit(features_train, target_train) # обучите модель на тренировочной выборке\n",
    "    predictions_valid = model.predict(features_valid) # получите предсказания модели на валидационной выборке\n",
    "    result = mean_squared_error(target_valid, predictions_valid)\n",
    "    if result < best_result:\n",
    "        best_model = model\n",
    "        best_result = result\n",
    "        best_depth = depth\n",
    "print(\"RMSE наилучшей модели на валидационной выборке:\", best_result**0.5, \"Глубина дерева:\", best_depth)"
   ]
  },
  {
   "cell_type": "code",
   "execution_count": null,
   "id": "ab1f5fed-5016-4d45-8059-7b10f50dab48",
   "metadata": {},
   "outputs": [],
   "source": []
  }
 ],
 "metadata": {
  "kernelspec": {
   "display_name": "Python 3 (ipykernel)",
   "language": "python",
   "name": "python3"
  },
  "language_info": {
   "codemirror_mode": {
    "name": "ipython",
    "version": 3
   },
   "file_extension": ".py",
   "mimetype": "text/x-python",
   "name": "python",
   "nbconvert_exporter": "python",
   "pygments_lexer": "ipython3",
   "version": "3.9.13"
  }
 },
 "nbformat": 4,
 "nbformat_minor": 5
}
