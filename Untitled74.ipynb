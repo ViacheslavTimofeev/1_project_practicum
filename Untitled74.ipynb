{
 "cells": [
  {
   "cell_type": "code",
   "execution_count": 3,
   "id": "be319097-f1bc-4ca1-a95b-b5cf47c128ed",
   "metadata": {},
   "outputs": [
    {
     "name": "stdout",
     "output_type": "stream",
     "text": [
      "Порог = 0.00 | Точность = 0.013, Полнота = 1.000\n",
      "Порог = 0.02 | Точность = 0.052, Полнота = 0.645\n",
      "Порог = 0.04 | Точность = 0.061, Полнота = 0.609\n",
      "Порог = 0.06 | Точность = 0.072, Полнота = 0.367\n",
      "Порог = 0.08 | Точность = 0.097, Полнота = 0.254\n",
      "Порог = 0.10 | Точность = 0.112, Полнота = 0.178\n",
      "Порог = 0.12 | Точность = 0.146, Полнота = 0.107\n",
      "Порог = 0.14 | Точность = 0.033, Полнота = 0.012\n",
      "Порог = 0.16 | Точность = 0.034, Полнота = 0.006\n",
      "Порог = 0.18 | Точность = 0.000, Полнота = 0.000\n",
      "Порог = 0.20 | Точность = 0.000, Полнота = 0.000\n",
      "Порог = 0.22 | Точность = 0.000, Полнота = 0.000\n",
      "Порог = 0.24 | Точность = 0.000, Полнота = 0.000\n",
      "Порог = 0.26 | Точность = 0.000, Полнота = 0.000\n",
      "Порог = 0.28 | Точность = 0.000, Полнота = 0.000\n"
     ]
    }
   ],
   "source": [
    "import pandas as pd\n",
    "import numpy as np\n",
    "from sklearn.model_selection import train_test_split\n",
    "from sklearn.linear_model import LogisticRegression\n",
    "from sklearn.metrics import precision_score, recall_score\n",
    "\n",
    "data = pd.read_csv('D:/travel_insurance_preprocessed.csv')\n",
    "pd.options.mode.chained_assignment = None\n",
    "target = data['Claim']\n",
    "features = data.drop('Claim', axis=1)\n",
    "\n",
    "features_train, features_valid, target_train, target_valid = train_test_split(features, target, test_size=0.25, random_state=12345)\n",
    "model = LogisticRegression(random_state=12345, solver='liblinear')\n",
    "model.fit(features_train, target_train)\n",
    "probabilities_valid = model.predict_proba(features_valid)\n",
    "probabilities_one_valid = probabilities_valid[:, 1]\n",
    "for threshold in np.arange(0, 0.3, 0.02):\n",
    "    predicted_valid = probabilities_one_valid > threshold \n",
    "    precision = precision_score(target_valid, predicted_valid)\n",
    "    recall = recall_score(target_valid, predicted_valid)\n",
    "    print(\"Порог = {:.2f} | Точность = {:.3f}, Полнота = {:.3f}\".format(threshold, precision, recall))"
   ]
  },
  {
   "cell_type": "code",
   "execution_count": null,
   "id": "1e7bdcf8-282f-4c39-90ad-312a0aeddb62",
   "metadata": {},
   "outputs": [],
   "source": []
  }
 ],
 "metadata": {
  "kernelspec": {
   "display_name": "Python 3 (ipykernel)",
   "language": "python",
   "name": "python3"
  },
  "language_info": {
   "codemirror_mode": {
    "name": "ipython",
    "version": 3
   },
   "file_extension": ".py",
   "mimetype": "text/x-python",
   "name": "python",
   "nbconvert_exporter": "python",
   "pygments_lexer": "ipython3",
   "version": "3.9.13"
  }
 },
 "nbformat": 4,
 "nbformat_minor": 5
}
