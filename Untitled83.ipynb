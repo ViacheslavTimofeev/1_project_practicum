{
 "cells": [
  {
   "cell_type": "code",
   "execution_count": 14,
   "id": "ade4e81f-f52d-4956-9eb6-3cc793955bc9",
   "metadata": {},
   "outputs": [
    {
     "name": "stdout",
     "output_type": "stream",
     "text": [
      "25.489193328600177   22.470787198618467 12\n",
      "CPU times: total: 1min 27s\n",
      "Wall time: 1min 27s\n"
     ]
    }
   ],
   "source": [
    "%%time\n",
    "import pandas as pd\n",
    "from sklearn.ensemble import RandomForestRegressor\n",
    "from sklearn.model_selection import train_test_split\n",
    "from sklearn.metrics import mean_absolute_error\n",
    "\n",
    "data = pd.read_csv('D:/flights_preprocessed.csv')\n",
    "\n",
    "features = data.drop('Arrival Delay', axis=1)\n",
    "target = data['Arrival Delay']\n",
    "\n",
    "features_train, features_valid, target_train, target_valid = train_test_split(features, target, random_state=12345, test_size=0.25)\n",
    "\n",
    "best_model = None\n",
    "best_score = 100\n",
    "best_depth = 0\n",
    "for depth in range(1, 13, 1):\n",
    "    model = RandomForestRegressor(n_estimators=80, max_depth=depth, random_state=12345)\n",
    "    model.fit(features_train, target_train)\n",
    "    predictions_valid = model.predict(features_valid)\n",
    "    predictions_train = model.predict(features_train)\n",
    "    score_valid = mean_absolute_error(target_valid, predictions_valid)\n",
    "    score_train = mean_absolute_error(target_train, predictions_train)\n",
    "    if score_valid < best_score:\n",
    "        best_score = score_valid\n",
    "        best_model = model\n",
    "        best_depth = depth\n",
    "print(best_score, ' ', score_train, best_depth)"
   ]
  },
  {
   "cell_type": "code",
   "execution_count": null,
   "id": "0cb627fa-c61f-4500-9a8f-82c9ae022fe7",
   "metadata": {},
   "outputs": [],
   "source": []
  }
 ],
 "metadata": {
  "kernelspec": {
   "display_name": "Python 3 (ipykernel)",
   "language": "python",
   "name": "python3"
  },
  "language_info": {
   "codemirror_mode": {
    "name": "ipython",
    "version": 3
   },
   "file_extension": ".py",
   "mimetype": "text/x-python",
   "name": "python",
   "nbconvert_exporter": "python",
   "pygments_lexer": "ipython3",
   "version": "3.9.13"
  }
 },
 "nbformat": 4,
 "nbformat_minor": 5
}
