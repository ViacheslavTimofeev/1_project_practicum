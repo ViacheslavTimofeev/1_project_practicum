{
 "cells": [
  {
   "cell_type": "code",
   "execution_count": 11,
   "id": "fa504570-0462-4676-b2a2-cead055d55a0",
   "metadata": {},
   "outputs": [
    {
     "name": "stdout",
     "output_type": "stream",
     "text": [
      "      Agency    Agency Type Distribution Channel              Product Name  \\\n",
      "33312    EPX  Travel Agency               Online         Cancellation Plan   \n",
      "50154    EPX  Travel Agency               Online         Cancellation Plan   \n",
      "26729    EPX  Travel Agency               Online         Cancellation Plan   \n",
      "37842    EPX  Travel Agency               Online  2 way Comprehensive Plan   \n",
      "23588    EPX  Travel Agency               Online  2 way Comprehensive Plan   \n",
      "\n",
      "       Duration Destination  Net Sales  Commission (in value) Gender       Age  \n",
      "33312  0.243485       CHINA  -0.513068              -0.500631   None -0.283389  \n",
      "50154 -0.266879   SINGAPORE  -0.554403              -0.500631   None -0.283389  \n",
      "26729 -0.329555    MALAYSIA  -0.637074              -0.500631   None -0.709982  \n",
      "37842 -0.069896    THAILAND   0.065625              -0.500631   None -0.354488  \n",
      "23588 -0.374324    MALAYSIA  -0.430398              -0.500631   None -0.425587  \n"
     ]
    }
   ],
   "source": [
    "import pandas as pd\n",
    "from sklearn.model_selection import train_test_split\n",
    "from sklearn.preprocessing import StandardScaler\n",
    "# < напишите код здесь >\n",
    "pd.options.mode.chained_assignment = None\n",
    "data = pd.read_csv('D:/travel_insurance.csv')\n",
    "\n",
    "target = data['Claim']\n",
    "features = data.drop('Claim', axis=1)\n",
    "\n",
    "features_train, features_valid, target_train, target_valid = train_test_split(features, target, test_size=0.25, random_state=12345)\n",
    "\n",
    "numeric = ['Duration', 'Net Sales', 'Commission (in value)', 'Age']\n",
    "\n",
    "scaler = StandardScaler()\n",
    "scaler.fit(features_train[numeric])\n",
    "\n",
    "features_train[numeric] = scaler.transform(features_train[numeric])\n",
    "features_valid[numeric] = scaler.transform(features_valid[numeric])\n",
    "\n",
    "print(features_train.head())"
   ]
  },
  {
   "cell_type": "code",
   "execution_count": null,
   "id": "d2f5528e-c538-4de7-8c7d-4cd3e1fca5f5",
   "metadata": {},
   "outputs": [],
   "source": []
  }
 ],
 "metadata": {
  "kernelspec": {
   "display_name": "Python 3 (ipykernel)",
   "language": "python",
   "name": "python3"
  },
  "language_info": {
   "codemirror_mode": {
    "name": "ipython",
    "version": 3
   },
   "file_extension": ".py",
   "mimetype": "text/x-python",
   "name": "python",
   "nbconvert_exporter": "python",
   "pygments_lexer": "ipython3",
   "version": "3.9.13"
  }
 },
 "nbformat": 4,
 "nbformat_minor": 5
}
