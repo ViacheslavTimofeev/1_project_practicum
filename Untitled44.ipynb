{
 "cells": [
  {
   "cell_type": "code",
   "execution_count": 4,
   "id": "958c23e1-632a-488d-b886-0f6f7c5826b1",
   "metadata": {},
   "outputs": [
    {
     "name": "stdout",
     "output_type": "stream",
     "text": [
      "Вероятность бонуса: 0.0013498980316301035\n",
      "Вероятность штрафа: 0.0075792194387197245\n"
     ]
    }
   ],
   "source": [
    "from scipy import stats as st\n",
    "\n",
    "mu = 100500\n",
    "sigma = 3500\n",
    "bonus_threshold = 111000\n",
    "penalty_threshold = 92000\n",
    "norm = st.norm(mu, sigma)\n",
    "p_bonus = 1 - norm.cdf(bonus_threshold)\n",
    "p_penalty = norm.cdf(penalty_threshold)\n",
    "print('Вероятность бонуса:', p_bonus)\n",
    "print('Вероятность штрафа:', p_penalty)"
   ]
  },
  {
   "cell_type": "code",
   "execution_count": null,
   "id": "c9f3b3ca-8c19-4ab9-86fc-c8ca95e3a0cc",
   "metadata": {},
   "outputs": [],
   "source": []
  }
 ],
 "metadata": {
  "kernelspec": {
   "display_name": "Python 3 (ipykernel)",
   "language": "python",
   "name": "python3"
  },
  "language_info": {
   "codemirror_mode": {
    "name": "ipython",
    "version": 3
   },
   "file_extension": ".py",
   "mimetype": "text/x-python",
   "name": "python",
   "nbconvert_exporter": "python",
   "pygments_lexer": "ipython3",
   "version": "3.9.13"
  }
 },
 "nbformat": 4,
 "nbformat_minor": 5
}
