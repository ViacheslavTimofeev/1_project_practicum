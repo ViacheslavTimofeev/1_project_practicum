{
 "cells": [
  {
   "cell_type": "code",
   "execution_count": 4,
   "id": "9c57d945",
   "metadata": {},
   "outputs": [
    {
     "name": "stdout",
     "output_type": "stream",
     "text": [
      "Иванов-173\n",
      "Петров-255\n",
      "Сидоров-228\n",
      "Антонов-240\n"
     ]
    }
   ],
   "source": [
    "game_scores = {\n",
    "    'Иванов': [23, 35, 70, 45],\n",
    "    'Петров': [38, 72, 65, 80],\n",
    "    'Сидоров': [30, 35, 90, 73],\n",
    "    'Антонов': [45, 20, 95, 80]\n",
    "}\n",
    "for person, points in game_scores.items(): # перебор каждого ключа в словаре\n",
    "    total_points = sum(points)\n",
    "    print(f'{person}-{total_points}')"
   ]
  },
  {
   "cell_type": "code",
   "execution_count": 5,
   "id": "95749c6c",
   "metadata": {},
   "outputs": [
    {
     "name": "stdout",
     "output_type": "stream",
     "text": [
      "Результат:\n",
      "[\n",
      "    {\n",
      "        \"item\": \"Пицца Маргарита\",\n",
      "        \"category\": \"пицца\",\n",
      "        \"quantity\": 2,\n",
      "        \"price\": 320\n",
      "    },\n",
      "    {\n",
      "        \"item\": \"Пицца с ветчиной\",\n",
      "        \"category\": \"пицца\",\n",
      "        \"quantity\": 1,\n",
      "        \"price\": 410\n",
      "    }\n",
      "]\n"
     ]
    }
   ],
   "source": [
    "from json import dumps # подключение dumps() для красивого вывода списка словарей\n",
    "order = [\n",
    "    {\n",
    "        'item': 'Пицца Маргарита',\n",
    "        'category': 'пицца',\n",
    "        'quantity': 2,\n",
    "        'price': 320\n",
    "    },\n",
    "    {\n",
    "        'item': 'Пицца с ветчиной',\n",
    "        'category': 'пицца',\n",
    "        'quantity': 1,\n",
    "        'price': 410\n",
    "    },\n",
    "    {\n",
    "        'item': 'Pepsi 1 л',\n",
    "        'category': 'напитки',\n",
    "        'quantity': 3,\n",
    "        'price': 75\n",
    "    }\n",
    "]\n",
    "\n",
    "filtered_order = [] # переменная для хранения результата\n",
    "for item in order: # перебираем каждый словарь в списке\n",
    "    if item['category'] == 'пицца': # если категория - пицца...\n",
    "        filtered_order.append(item) # ...то добавим в словарь в список filtered_order\n",
    "print('Результат:')\n",
    "print(dumps(filtered_order, indent=4, ensure_ascii=False)) # печатаем список с помощью dumps()"
   ]
  },
  {
   "cell_type": "code",
   "execution_count": 12,
   "id": "50d45e7c",
   "metadata": {},
   "outputs": [
    {
     "name": "stdout",
     "output_type": "stream",
     "text": [
      "92.9\n"
     ]
    }
   ],
   "source": [
    "monuments = [\n",
    "    {\n",
    "        'name': 'Статуя Единства', # название\n",
    "        'country': 'Индия', # страна\n",
    "        'height': 182 # высота без постамента\n",
    "    },\n",
    "    {\n",
    "        'name': 'Статуя богини Каннон в Сендае',\n",
    "        'country': 'Япония',\n",
    "        'height': 100\n",
    "    },\n",
    "    {\n",
    "        'name': 'Родина-Мать зовёт!',\n",
    "        'country': 'Россия',\n",
    "        'height': 85\n",
    "    },\n",
    "    {\n",
    "        'name': 'Будда Дорденма',\n",
    "        'country': 'Бутан',\n",
    "        'height': 51.5\n",
    "    },\n",
    "    {\n",
    "        'name': 'Статуя Свободы',\n",
    "        'country': 'США',\n",
    "        'height': 46\n",
    "    }\n",
    "]\n",
    "\n",
    "height_counter = 0\n",
    "for item in monuments:\n",
    "    height_counter += item['height']\n",
    "print(height_counter / len(monuments))    "
   ]
  },
  {
   "cell_type": "code",
   "execution_count": 15,
   "id": "a5481fb5",
   "metadata": {},
   "outputs": [
    {
     "name": "stdout",
     "output_type": "stream",
     "text": [
      "1050\n"
     ]
    }
   ],
   "source": [
    "order = [\n",
    "    {\n",
    "\n",
    "        'item': 'Пицца Маргарита', # название позиции\n",
    "        'category': 'пицца', # категория товара\n",
    "        'quantity': 2, # количество в заказе\n",
    "        'comment': 'Побольше сыра, пожалуйста!', # комментарий к заказу\n",
    "        'price': 320 # стоимость одной единицы товара\n",
    "    },\n",
    "    {\n",
    "        'item': 'Пицца с ветчиной',\n",
    "        'category': 'пицца',\n",
    "        'quantity': 1,\n",
    "        'comment': '',\n",
    "        'price': 410\n",
    "    },\n",
    "    {\n",
    "        'item': 'Pepsi 1 л',\n",
    "        'category': 'напитки',\n",
    "        'quantity': 3,\n",
    "        'comment': '',\n",
    "        'price': 75\n",
    "    },\n",
    "    {\n",
    "        'item': 'Сок яблочный 0.5 л',\n",
    "        'category': 'напитки',\n",
    "        'quantity': 1,\n",
    "        'comment': '',\n",
    "        'price': 80\n",
    "    },\n",
    "    {\n",
    "        'item': 'Круассан с сыром',\n",
    "        'category': 'выпечка',\n",
    "        'quantity': 2,\n",
    "        'comment': '',\n",
    "        'price': 130\n",
    "    }\n",
    "]\n",
    "summary_pizza = 0\n",
    "for item in order:\n",
    "    if item['category'] == 'пицца':\n",
    "        summary_pizza += item['price'] * item['quantity']\n",
    "print(f'{summary_pizza}')        "
   ]
  },
  {
   "cell_type": "code",
   "execution_count": null,
   "id": "ca37ec4f",
   "metadata": {},
   "outputs": [],
   "source": []
  }
 ],
 "metadata": {
  "kernelspec": {
   "display_name": "Python 3 (ipykernel)",
   "language": "python",
   "name": "python3"
  },
  "language_info": {
   "codemirror_mode": {
    "name": "ipython",
    "version": 3
   },
   "file_extension": ".py",
   "mimetype": "text/x-python",
   "name": "python",
   "nbconvert_exporter": "python",
   "pygments_lexer": "ipython3",
   "version": "3.9.13"
  }
 },
 "nbformat": 4,
 "nbformat_minor": 5
}
