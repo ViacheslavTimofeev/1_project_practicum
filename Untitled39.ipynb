{
 "cells": [
  {
   "cell_type": "code",
   "execution_count": 3,
   "id": "b6c97d03-16b8-4cc6-b81c-c03716b5c2b9",
   "metadata": {},
   "outputs": [
    {
     "name": "stdout",
     "output_type": "stream",
     "text": [
      "Математическое ожидание равно 5.5\n",
      "Дисперсия равна 55.349999999999994\n"
     ]
    }
   ],
   "source": [
    "import numpy as np\n",
    "\n",
    "x_probs = {\n",
    "    '-4': 0.05,\n",
    "    '-2': 0.25,\n",
    "    '0': 0.1,\n",
    "    '1': 0.1,\n",
    "    '5': 0.1,\n",
    "    '7': 0.05,\n",
    "    '15': 0.35,\n",
    "}\n",
    "expectation = sum([int(x) * x_probs[x] for x in x_probs])\n",
    "variance = sum([int(x) * int(x) * x_probs[x] for x in x_probs]) - expectation ** 2\n",
    "\n",
    "print('Математическое ожидание равно', expectation)\n",
    "print('Дисперсия равна', variance)"
   ]
  },
  {
   "cell_type": "code",
   "execution_count": null,
   "id": "e1c728dd-3af2-40d0-b8f6-a0b7ca85bc02",
   "metadata": {},
   "outputs": [],
   "source": []
  }
 ],
 "metadata": {
  "kernelspec": {
   "display_name": "Python 3 (ipykernel)",
   "language": "python",
   "name": "python3"
  },
  "language_info": {
   "codemirror_mode": {
    "name": "ipython",
    "version": 3
   },
   "file_extension": ".py",
   "mimetype": "text/x-python",
   "name": "python",
   "nbconvert_exporter": "python",
   "pygments_lexer": "ipython3",
   "version": "3.9.13"
  }
 },
 "nbformat": 4,
 "nbformat_minor": 5
}
