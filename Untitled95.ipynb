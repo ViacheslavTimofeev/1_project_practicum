{
 "cells": [
  {
   "cell_type": "code",
   "execution_count": 9,
   "id": "8dd69d01-c676-4e6b-8398-a436a3952f95",
   "metadata": {},
   "outputs": [
    {
     "name": "stdout",
     "output_type": "stream",
     "text": [
      "[202]\n"
     ]
    }
   ],
   "source": [
    "import pandas as pd\n",
    "from sklearn.tree import DecisionTreeClassifier\n",
    "\n",
    "data = pd.read_csv('D:/heart.csv')\n",
    "sample_size = int(len(data)/3)\n",
    "for i in range(0, len(data), sample_size):\n",
    "    valid_indexes = [i]\n",
    "print(valid_indexes)"
   ]
  },
  {
   "cell_type": "code",
   "execution_count": null,
   "id": "a7b24791-50ca-4c45-b753-5f01892499fe",
   "metadata": {},
   "outputs": [],
   "source": []
  }
 ],
 "metadata": {
  "kernelspec": {
   "display_name": "Python 3 (ipykernel)",
   "language": "python",
   "name": "python3"
  },
  "language_info": {
   "codemirror_mode": {
    "name": "ipython",
    "version": 3
   },
   "file_extension": ".py",
   "mimetype": "text/x-python",
   "name": "python",
   "nbconvert_exporter": "python",
   "pygments_lexer": "ipython3",
   "version": "3.9.16"
  }
 },
 "nbformat": 4,
 "nbformat_minor": 5
}
