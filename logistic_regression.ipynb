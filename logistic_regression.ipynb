{
 "cells": [
  {
   "cell_type": "code",
   "execution_count": 7,
   "id": "4cdf224e-5f92-48f8-b00a-df54b67929ce",
   "metadata": {},
   "outputs": [
    {
     "name": "stdout",
     "output_type": "stream",
     "text": [
      "[0. 0. 1. ... 0. 0. 0.]\n"
     ]
    }
   ],
   "source": [
    "import pandas as pd\n",
    "from joblib import dump\n",
    "from sklearn.ensemble import RandomForestClassifier\n",
    "from sklearn.model_selection import train_test_split\n",
    "from sklearn.linear_model import LogisticRegression \n",
    "\n",
    "df = pd.read_csv('D:/train_data.csv')\n",
    "\n",
    "df.loc[df['last_price'] > 5650000, 'price_class'] = 1\n",
    "df.loc[df['last_price'] <= 5650000, 'price_class'] = 0\n",
    "\n",
    "df_train, df_valid = train_test_split(df, test_size=0.25, random_state=12345) # отделите 25% данных для валидационной выборки\n",
    "\n",
    "features_train = df_train.drop(['last_price', 'price_class'], axis=1)\n",
    "target_train = df_train['price_class']\n",
    "\n",
    "features_valid = df_valid.drop(['last_price', 'price_class'], axis=1)\n",
    "target_valid = df_valid['price_class']\n",
    "\n",
    "model = LogisticRegression(random_state=12345, solver='lbfgs', max_iter=1000) \n",
    "model.fit(features_train, target_train)\n",
    "answer = model.predict(features_valid)\n",
    "score = model.score(features_valid, target_valid)\n",
    "print(answer)\n",
    "#dump(model, 'model_9_1.joblib')"
   ]
  },
  {
   "cell_type": "code",
   "execution_count": null,
   "id": "93c782da-95a6-4e4e-aa4c-89380172918f",
   "metadata": {},
   "outputs": [],
   "source": []
  }
 ],
 "metadata": {
  "kernelspec": {
   "display_name": "Python 3 (ipykernel)",
   "language": "python",
   "name": "python3"
  },
  "language_info": {
   "codemirror_mode": {
    "name": "ipython",
    "version": 3
   },
   "file_extension": ".py",
   "mimetype": "text/x-python",
   "name": "python",
   "nbconvert_exporter": "python",
   "pygments_lexer": "ipython3",
   "version": "3.9.13"
  }
 },
 "nbformat": 4,
 "nbformat_minor": 5
}
