{
 "cells": [
  {
   "cell_type": "code",
   "execution_count": 26,
   "id": "6139cf8d-866e-4588-8443-d70adc1deb27",
   "metadata": {},
   "outputs": [
    {
     "name": "stdout",
     "output_type": "stream",
     "text": [
      "14249.25\n"
     ]
    }
   ],
   "source": [
    "from sklearn.metrics import mean_squared_error\n",
    "import math\n",
    "\n",
    "def mse(answers, predictions):\n",
    "    total = 0\n",
    "    len_answers = len(answers)\n",
    "    len_predictions = len(predictions)\n",
    "    for i in range(len(answers)):\n",
    "        total += (predictions[i] - answers[i])**2\n",
    "    result = total / (len_answers + len_predictions)\n",
    "    return result\n",
    "\n",
    "answers = [623, 253, 150, 237]\n",
    "predictions = [649, 253, 370, 148]\n",
    "print(mean_squared_error(answers, predictions))"
   ]
  },
  {
   "cell_type": "code",
   "execution_count": null,
   "id": "f64c0394-ff0e-477f-b2d1-4d24334278cf",
   "metadata": {},
   "outputs": [],
   "source": []
  }
 ],
 "metadata": {
  "kernelspec": {
   "display_name": "Python 3 (ipykernel)",
   "language": "python",
   "name": "python3"
  },
  "language_info": {
   "codemirror_mode": {
    "name": "ipython",
    "version": 3
   },
   "file_extension": ".py",
   "mimetype": "text/x-python",
   "name": "python",
   "nbconvert_exporter": "python",
   "pygments_lexer": "ipython3",
   "version": "3.9.13"
  }
 },
 "nbformat": 4,
 "nbformat_minor": 5
}
