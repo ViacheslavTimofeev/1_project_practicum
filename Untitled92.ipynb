{
 "cells": [
  {
   "cell_type": "code",
   "execution_count": 9,
   "id": "c8addd10-ca22-4bbf-8263-939d9788fb56",
   "metadata": {},
   "outputs": [
    {
     "name": "stdout",
     "output_type": "stream",
     "text": [
      "   age  sex  cp  trestbps  chol  fbs  restecg  thalach  exang  oldpeak  slope  \\\n",
      "0   50    1   0       150   243    0        0      128      0      2.6      1   \n",
      "1   55    0   1       135   250    0        0      161      0      1.4      1   \n",
      "2   54    1   0       140   239    0        1      160      0      1.2      2   \n",
      "3   59    1   3       178   270    0        0      145      0      4.2      0   \n",
      "4   70    1   2       160   269    0        1      112      1      2.9      1   \n",
      "\n",
      "   ca  thal  label_1  label_2  label_3  target  \n",
      "0   0     3        0        0        1       0  \n",
      "1   0     2        1        1        1       1  \n",
      "2   0     2        1        0        1       1  \n",
      "3   0     3        1        0        1       1  \n",
      "4   1     3        1        0        0       0  \n"
     ]
    },
    {
     "name": "stderr",
     "output_type": "stream",
     "text": [
      "C:\\Users\\User\\AppData\\Local\\Temp\\ipykernel_11840\\529180817.py:10: SettingWithCopyWarning: \n",
      "A value is trying to be set on a copy of a slice from a DataFrame\n",
      "\n",
      "See the caveats in the documentation: https://pandas.pydata.org/pandas-docs/stable/user_guide/indexing.html#returning-a-view-versus-a-copy\n",
      "  data['target'][i] = 0\n",
      "C:\\Users\\User\\AppData\\Local\\Temp\\ipykernel_11840\\529180817.py:8: SettingWithCopyWarning: \n",
      "A value is trying to be set on a copy of a slice from a DataFrame\n",
      "\n",
      "See the caveats in the documentation: https://pandas.pydata.org/pandas-docs/stable/user_guide/indexing.html#returning-a-view-versus-a-copy\n",
      "  data['target'][i] = 1\n"
     ]
    }
   ],
   "source": [
    "import pandas as pd\n",
    "\n",
    "data = pd.read_csv('D:/heart_labeled.csv')\n",
    "info = [0 for i in range(len(data))]\n",
    "data['target'] = pd.Series(data=info)\n",
    "for i in range(len(data['label_1'])):\n",
    "    if (data['label_1'][i] + data['label_2'][i] + data['label_3'][i]) >= 2:\n",
    "        data['target'][i] = 1\n",
    "    else:\n",
    "        data['target'][i] = 0\n",
    "print(data.head())"
   ]
  },
  {
   "cell_type": "code",
   "execution_count": null,
   "id": "baf23c81-5589-4e72-82e3-0bdcb69b8dc9",
   "metadata": {},
   "outputs": [],
   "source": []
  }
 ],
 "metadata": {
  "kernelspec": {
   "display_name": "Python 3 (ipykernel)",
   "language": "python",
   "name": "python3"
  },
  "language_info": {
   "codemirror_mode": {
    "name": "ipython",
    "version": 3
   },
   "file_extension": ".py",
   "mimetype": "text/x-python",
   "name": "python",
   "nbconvert_exporter": "python",
   "pygments_lexer": "ipython3",
   "version": "3.9.16"
  }
 },
 "nbformat": 4,
 "nbformat_minor": 5
}
