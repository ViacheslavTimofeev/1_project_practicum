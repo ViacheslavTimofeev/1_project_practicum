{
 "cells": [
  {
   "cell_type": "code",
   "execution_count": 13,
   "id": "54a460c5-c823-4fea-953f-753fec451e5c",
   "metadata": {},
   "outputs": [
    {
     "name": "stdout",
     "output_type": "stream",
     "text": [
      "Index(['last_price', 'total_area', 'rooms', 'ceiling_height', 'floors_total',\n",
      "       'living_area', 'floor', 'is_apartment', 'studio', 'open_plan',\n",
      "       'kitchen_area', 'balcony', 'airports_nearest', 'cityCenters_nearest'],\n",
      "      dtype='object')\n",
      "11.757737744151\n"
     ]
    }
   ],
   "source": [
    "import pandas as pd\n",
    "from sklearn.metrics import mean_squared_error\n",
    "\n",
    "df = pd.read_csv('D:/train_data.csv')\n",
    "print(df.columns)\n",
    "features = df.drop(['last_price'], axis=1)\n",
    "target = df['last_price'] / 1000000\n",
    "mean_target = target.mean()\n",
    "r = [mean_target for i in range(len(features))]\n",
    "series_predictions = pd.Series(r, index=target.index)\n",
    "print(mean_squared_error(target, series_predictions)**0.5)"
   ]
  },
  {
   "cell_type": "code",
   "execution_count": null,
   "id": "75f5251d-9c86-466a-965e-eceec4551c59",
   "metadata": {},
   "outputs": [],
   "source": []
  }
 ],
 "metadata": {
  "kernelspec": {
   "display_name": "Python 3 (ipykernel)",
   "language": "python",
   "name": "python3"
  },
  "language_info": {
   "codemirror_mode": {
    "name": "ipython",
    "version": 3
   },
   "file_extension": ".py",
   "mimetype": "text/x-python",
   "name": "python",
   "nbconvert_exporter": "python",
   "pygments_lexer": "ipython3",
   "version": "3.9.13"
  }
 },
 "nbformat": 4,
 "nbformat_minor": 5
}
