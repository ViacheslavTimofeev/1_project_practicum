{
 "cells": [
  {
   "cell_type": "code",
   "execution_count": 1,
   "id": "65c3e7c0-54da-4e65-9af8-4fb5ffda1a49",
   "metadata": {},
   "outputs": [
    {
     "name": "stdout",
     "output_type": "stream",
     "text": [
      "p-значение: 1.3358596895543794e-06\n",
      "Отвергаем нулевую гипотезу\n"
     ]
    }
   ],
   "source": [
    "from scipy import stats as st\n",
    "import pandas as pd\n",
    "\n",
    "screens = pd.Series([4, 2, 4, 5, 5, 4, 2, 3, 3, 5, 2, 5, 2, 2, 2, 3, 3, 4, 8, 3, 4, 3, 5, 5, 4, 2, 5, 2, 3, 7, 5, 5, 6,  5, 3, 4, 3, 6, 3, 4, 4, 3, 5, 4, 4, 8, 4, 7, 4, 5, 5, 3, 4, 6, 7, 2, 3, 6, 5, 6, 4, 4, 3, 4, 6, 4, 4, 6, 2, 6, 5, 3, 3, 3, 4, 5, 3, 5, 5, 4, 3, 3, 3, 1, 5, 4, 3, 4, 6, 3, 1, 3, 2, 7, 3, 6, 6, 6, 5, 5])\n",
    "\n",
    "prev_screens_value = 4.867\n",
    "\n",
    "alpha = .05 # уровень статистической значимости\n",
    "\n",
    "results = st.ttest_1samp(\n",
    "    screens, \n",
    "    prev_screens_value)\n",
    "\n",
    "# тест односторонний: p-value будет в два раза меньше\n",
    "print('p-значение:', results.pvalue / 2)\n",
    "\n",
    "# тест односторонний влево:\n",
    "# отвергаем гипотезу только тогда, когда выборочное среднее значимо меньше предполагаемого значения\n",
    "if (results.pvalue / 2 < alpha) and (screens.mean() < prev_screens_value):\n",
    "    print(\"Отвергаем нулевую гипотезу\")\n",
    "else:\n",
    "    print(\"Не отвергаем нулевую гипотезу\")"
   ]
  },
  {
   "cell_type": "code",
   "execution_count": null,
   "id": "d3e05403-c05c-447f-80a6-803eb87b23f9",
   "metadata": {},
   "outputs": [],
   "source": []
  }
 ],
 "metadata": {
  "kernelspec": {
   "display_name": "Python 3 (ipykernel)",
   "language": "python",
   "name": "python3"
  },
  "language_info": {
   "codemirror_mode": {
    "name": "ipython",
    "version": 3
   },
   "file_extension": ".py",
   "mimetype": "text/x-python",
   "name": "python",
   "nbconvert_exporter": "python",
   "pygments_lexer": "ipython3",
   "version": "3.9.13"
  }
 },
 "nbformat": 4,
 "nbformat_minor": 5
}
