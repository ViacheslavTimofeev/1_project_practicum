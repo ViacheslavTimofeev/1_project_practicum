{
 "cells": [
  {
   "cell_type": "code",
   "execution_count": 1,
   "id": "3351d4f4-a039-4884-ae72-e4bccd10af69",
   "metadata": {},
   "outputs": [
    {
     "ename": "SyntaxError",
     "evalue": "invalid syntax (1920839032.py, line 9)",
     "output_type": "error",
     "traceback": [
      "\u001b[1;36m  Cell \u001b[1;32mIn [1], line 9\u001b[1;36m\u001b[0m\n\u001b[1;33m    match value:\u001b[0m\n\u001b[1;37m          ^\u001b[0m\n\u001b[1;31mSyntaxError\u001b[0m\u001b[1;31m:\u001b[0m invalid syntax\n"
     ]
    }
   ],
   "source": [
    "def load():\n",
    "    print(\"Загружаем\")\n",
    "def save():\n",
    "    print(\"Сохраняем\")\n",
    "def default():\n",
    "    print(\"Неизвестно как обработать\")\n",
    "\n",
    "def main(value):\n",
    "    match value:\n",
    "        case \"load\":\n",
    "            load()\n",
    "        case \"save\":\n",
    "            save()\n",
    "        case _:\n",
    "            default()\n",
    "main(\"load\")\n",
    ">>> Загружаем\n",
    "main(\"save\")\n",
    ">>> Сохраняем\n",
    "main(5645)"
   ]
  },
  {
   "cell_type": "code",
   "execution_count": null,
   "id": "0c6c6415-cd70-4e32-9eb0-b898078bdeba",
   "metadata": {},
   "outputs": [],
   "source": []
  }
 ],
 "metadata": {
  "kernelspec": {
   "display_name": "Python 3 (ipykernel)",
   "language": "python",
   "name": "python3"
  },
  "language_info": {
   "codemirror_mode": {
    "name": "ipython",
    "version": 3
   },
   "file_extension": ".py",
   "mimetype": "text/x-python",
   "name": "python",
   "nbconvert_exporter": "python",
   "pygments_lexer": "ipython3",
   "version": "3.9.13"
  }
 },
 "nbformat": 4,
 "nbformat_minor": 5
}
