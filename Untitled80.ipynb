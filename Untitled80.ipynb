{
 "cells": [
  {
   "cell_type": "code",
   "execution_count": 6,
   "id": "8495c0f5-9d8c-428b-930f-bbcbbc05c45a",
   "metadata": {},
   "outputs": [
    {
     "name": "stdout",
     "output_type": "stream",
     "text": [
      "0.17500000000000004\n"
     ]
    }
   ],
   "source": [
    "import pandas as pd\n",
    "\n",
    "def mae(target, predictions):\n",
    "    error = 0\n",
    "    for i in range(len(target)):\n",
    "        error += abs(target[i] - predictions[i])\n",
    "    return error / len(target)\n",
    "target = pd.Series([-0.5, 2.1, 1.5, 0.3])\n",
    "predictions = pd.Series([-0.6, 1.7, 1.6, 0.2])\n",
    "print(mae(target, predictions))"
   ]
  },
  {
   "cell_type": "code",
   "execution_count": null,
   "id": "d7558ea8-d241-4641-abb3-cd5658011b27",
   "metadata": {},
   "outputs": [],
   "source": []
  },
  {
   "cell_type": "code",
   "execution_count": null,
   "id": "593abe04-4475-4e77-be67-164d1845b772",
   "metadata": {},
   "outputs": [],
   "source": []
  }
 ],
 "metadata": {
  "kernelspec": {
   "display_name": "Python 3 (ipykernel)",
   "language": "python",
   "name": "python3"
  },
  "language_info": {
   "codemirror_mode": {
    "name": "ipython",
    "version": 3
   },
   "file_extension": ".py",
   "mimetype": "text/x-python",
   "name": "python",
   "nbconvert_exporter": "python",
   "pygments_lexer": "ipython3",
   "version": "3.9.13"
  }
 },
 "nbformat": 4,
 "nbformat_minor": 5
}
