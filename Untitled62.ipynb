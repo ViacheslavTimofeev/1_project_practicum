{
 "cells": [
  {
   "cell_type": "code",
   "execution_count": 20,
   "id": "db6b57ca-bb85-4ceb-9d41-d73ff3b52271",
   "metadata": {},
   "outputs": [
    {
     "name": "stdout",
     "output_type": "stream",
     "text": [
      "0.069164265129683\n"
     ]
    }
   ],
   "source": [
    "import pandas as pd\n",
    "from sklearn.tree import DecisionTreeClassifier\n",
    "from sklearn.metrics import accuracy_score\n",
    "from sklearn.model_selection import train_test_split\n",
    "from sklearn.metrics import f1_score \n",
    "\n",
    "data = pd.read_csv('D:/travel_insurance_preprocessed.csv')\n",
    "\n",
    "target = data['Claim']\n",
    "features = data.drop('Claim', axis=1)\n",
    "\n",
    "features_train, features_valid, target_train, target_valid = train_test_split(features, target, test_size=0.25, random_state=12345)\n",
    "model = DecisionTreeClassifier(random_state=12345)\n",
    "model.fit(features_train, target_train)\n",
    "predicted_valid = model.predict(features_valid)\n",
    "\n",
    "\n",
    "# чтобы работала функция value_counts(),\n",
    "# мы преобразовали результат к pd.Series \n",
    "predicted_valid = pd.Series(model.predict(features_valid))\n",
    "'''\n",
    "predicted_valid_count = predicted_valid.value_counts(normalize=True)\n",
    "print(predicted_valid_count)\n",
    "predicted_valid_count.plot(kind='bar')\n",
    "'''\n",
    "#target_pred_constant = pd.Series([0 for i in range(len(target))])#pd.Series([0 for i in range(len(features_valid))])\n",
    "\n",
    "print(f1_score(target_valid, predicted_valid))\n"
   ]
  },
  {
   "cell_type": "code",
   "execution_count": null,
   "id": "6c5499ae-ee06-4fc2-a61d-9d0e307523a2",
   "metadata": {},
   "outputs": [],
   "source": []
  },
  {
   "cell_type": "code",
   "execution_count": null,
   "id": "86dc949d-c13c-4d40-9725-8c66845f5b29",
   "metadata": {},
   "outputs": [],
   "source": []
  }
 ],
 "metadata": {
  "kernelspec": {
   "display_name": "Python 3 (ipykernel)",
   "language": "python",
   "name": "python3"
  },
  "language_info": {
   "codemirror_mode": {
    "name": "ipython",
    "version": 3
   },
   "file_extension": ".py",
   "mimetype": "text/x-python",
   "name": "python",
   "nbconvert_exporter": "python",
   "pygments_lexer": "ipython3",
   "version": "3.9.13"
  }
 },
 "nbformat": 4,
 "nbformat_minor": 5
}
