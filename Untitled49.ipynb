{
 "cells": [
  {
   "cell_type": "markdown",
   "id": "61a72464-ec3a-4525-a519-a038fa7a576f",
   "metadata": {
    "tags": []
   },
   "source": [
    "# 1. Анализ данных"
   ]
  },
  {
   "cell_type": "code",
   "execution_count": 3,
   "id": "048cf2ab-35d5-4c8c-8101-c7effb8c4971",
   "metadata": {},
   "outputs": [
    {
     "name": "stdout",
     "output_type": "stream",
     "text": [
      "<pandas.io.parsers.TextFileReader object at 0x000001979D422280>\n"
     ]
    },
    {
     "data": {
      "text/plain": [
       "\"\\ndef fill_table(x):\\n    for i in range(1, 13):\\n        messages_per_month[i] = 0\\n        \\nmessages_per_month[1] = messages.apply(fill_table)\\n\\ndef message_count(x):\\n    for user_id in users['user_id']:\\n        if x.month == 1:\\n            messages_per_month[1][user_id] = messages[messages['message_date'].dt.month == 1]['user_id'].count()\\n        \\nmessages_per_month['January'] = messages['message_date'].apply(message_count)\\n\""
      ]
     },
     "execution_count": 3,
     "metadata": {},
     "output_type": "execute_result"
    }
   ],
   "source": [
    "import pandas as pd\n",
    "from functools import reduce\n",
    "import warnings\n",
    "warnings.filterwarnings('ignore')\n",
    "# посмотрим в датасеты\n",
    "calls = pd.read_csv(r'D:\\calls.csv')\n",
    "internet = pd.read_csv(r'D:\\internet.csv')\n",
    "messages = pd.read_csv(r'D:\\messages.csv')\n",
    "tariffs = pd.read_csv(r'D:\\tariffs.csv')\n",
    "users = pd.read_csv(r'D:\\users.csv')\n",
    " \n",
    "# приведём столбцы к нужным типам\n",
    "calls['duration'] = calls['duration'].replace(0, 1)\n",
    "calls['call_date'] = pd.to_datetime(calls['call_date'], format='%Y.%m.%d')\n",
    "internet['session_date'] = pd.to_datetime(internet['session_date'], format='%Y.%m.%d')\n",
    "messages['message_date'] = pd.to_datetime(messages['message_date'], format='%Y.%m.%d')\n",
    "users['churn_date'] = pd.to_datetime(users['churn_date'], format='%Y.%m.%d')\n",
    "users['reg_date'] = pd.to_datetime(users['reg_date'], format='%Y.%m.%d')\n",
    "\n",
    "internet = internet.drop(['Unnamed: 0'], axis=1)\n",
    "\n",
    "users.set_axis(['user_id', 'age', 'churn_date', 'city', 'first_name', 'last_name', 'reg_date', 'tariff_name'], axis = 'columns', inplace = True)\n",
    "\n",
    "calls['calls_month'] = calls['call_date'].dt.month\n",
    "messages['messages_month'] = messages['message_date'].dt.month\n",
    "internet['internet_month'] = internet['session_date'].dt.month\n",
    "\n",
    "table_user_tar = users.merge(tariffs, on='tariff_name', how = 'left')\n",
    "\n",
    "calls = calls.rename(columns={'id': 'calls_id'})\n",
    "\n",
    "table_user_tar = table_user_tar.merge(calls, on='user_id', how = 'left')\n",
    "\n",
    "user_call_sum = table_user_tar.pivot_table(index = ['user_id', 'calls_month'], values='duration', aggfunc=['count', 'sum'])\n",
    "user_call_sum.columns = ['calls_per_month_count', 'duration_per_month_sum']\n",
    "\n",
    "table_user_tar = table_user_tar.merge(user_call_sum, on = ['user_id', 'calls_month'], how = 'left')\n",
    "\n",
    "def internet_to_int(x):\n",
    "    return int(x // 1024) + 1\n",
    "\n",
    "internet['gb_used'] = internet['mb_used'].apply(internet_to_int)\n",
    "\n",
    "internet = internet.rename(columns={'id':'internet_id'})\n",
    "\n",
    "\n",
    "user_messages_sum = messages.pivot_table(index = ['user_id', 'messages_month'], values='id', aggfunc='count')\n",
    "user_messages_sum.columns = ['messages_per_month']\n",
    "\n",
    "'''\n",
    "table_user_tar = table_user_tar.merge(df, on = ['user_id'], how = 'left')\n",
    "for df in [messages]:\n",
    "    messages = messages.merge(df, on = ['user_id'], how = 'left')\n",
    "#table_user_tar = table_user_tar.merge(user_messages_sum, on=['user_id'], how = 'left')\n",
    "'''\n",
    "# creating a empty bucket to save result\n",
    "df_result = pd.DataFrame(columns=(table_user_tar.columns.append(messages.columns)).unique())\n",
    "df_result.to_csv(\"merged_table_user.csv\",index_label=False)\n",
    "\n",
    "# save data which only appear in df1 # sorry I was doing left join here. no need to run below two line.\n",
    "# df_result = df1[df1.Colname1.isin(df2.Colname2)!=True]\n",
    "# df_result.to_csv(\"df3.csv\",index_label=False, mode=\"a\")\n",
    "\n",
    "# deleting df2 to save memory\n",
    "\n",
    "del(internet)\n",
    "\n",
    "def preprocess(x):\n",
    "    internet = pd.merge(table_user_tar, x)#, left_on = 'user_id', right_on = \"internet_month\")\n",
    "    internet.to_csv(\"merged_table_user.csv\", mode=\"a\", header=False, index=False)\n",
    "\n",
    "reader = pd.read_csv(\"D:\\internet.csv\", chunksize=10000) # chunksize depends with you colsize\n",
    "internet = \n",
    "#[preprocess(r) for r in reader]\n",
    "\n",
    "print(reader)\n",
    "#print(internet)\n",
    "#print(user_internet_sum)\n",
    "#print(internet.info())\n",
    "#print(user_messages_sum)\n",
    "'''\n",
    "calls_count_dict = {}\n",
    "duration_sum_dict = {}\n",
    "def calls_count(x):\n",
    "    if x not in calls_count_dict:\n",
    "        calls_count_dict[x] = len(calls[calls['user_id'] == x])\n",
    "        \n",
    "def duration_sum(x):\n",
    "    if x not in duration_sum_dict:\n",
    "        duration_sum_dict[x] = calls[calls['user_id'] == x]['duration'].sum()\n",
    "        \n",
    "users['calls_count'] = calls['user_id'].apply(calls_count)\n",
    "users['calls_count'] = users['user_id'].map(calls_count_dict)\n",
    "users['calls_count'] = users['calls_count'].fillna(0)\n",
    "users['calls_count'] = users['calls_count'].astype('int')\n",
    "\n",
    "users['duration_sum'] = calls['user_id'].apply(duration_sum)\n",
    "users['duration_sum'] = users['user_id'].map(duration_sum_dict)\n",
    "users['duration_sum'] = users['duration_sum'].fillna(0)\n",
    "users['duration_sum'] = users['duration_sum'].astype('float')\n",
    "\n",
    "messages_per_month = pd.DataFrame(data=users['user_id'])\n",
    "'''\n",
    "'''\n",
    "def fill_table(x):\n",
    "    for i in range(1, 13):\n",
    "        messages_per_month[i] = 0\n",
    "        \n",
    "messages_per_month[1] = messages.apply(fill_table)\n",
    "\n",
    "def message_count(x):\n",
    "    for user_id in users['user_id']:\n",
    "        if x.month == 1:\n",
    "            messages_per_month[1][user_id] = messages[messages['message_date'].dt.month == 1]['user_id'].count()\n",
    "        \n",
    "messages_per_month['January'] = messages['message_date'].apply(message_count)\n",
    "'''"
   ]
  },
  {
   "cell_type": "code",
   "execution_count": null,
   "id": "4e3e8d81-ecad-4d99-a242-c2cff5f9ed9e",
   "metadata": {},
   "outputs": [],
   "source": []
  },
  {
   "cell_type": "code",
   "execution_count": null,
   "id": "916bca70-61ff-4edf-a4a7-6dbebe216117",
   "metadata": {},
   "outputs": [],
   "source": []
  }
 ],
 "metadata": {
  "kernelspec": {
   "display_name": "Python 3 (ipykernel)",
   "language": "python",
   "name": "python3"
  },
  "language_info": {
   "codemirror_mode": {
    "name": "ipython",
    "version": 3
   },
   "file_extension": ".py",
   "mimetype": "text/x-python",
   "name": "python",
   "nbconvert_exporter": "python",
   "pygments_lexer": "ipython3",
   "version": "3.9.13"
  }
 },
 "nbformat": 4,
 "nbformat_minor": 5
}
