{
 "cells": [
  {
   "cell_type": "code",
   "execution_count": 8,
   "id": "373805f0-d837-488f-a20f-6f4cca6b04c7",
   "metadata": {},
   "outputs": [
    {
     "name": "stdout",
     "output_type": "stream",
     "text": [
      "46.15001682400051\n",
      "48.56833694484501\n",
      "0.09710497146204977\n"
     ]
    }
   ],
   "source": [
    "import pandas as pd\n",
    "from sklearn.preprocessing import StandardScaler\n",
    "from sklearn.model_selection import train_test_split\n",
    "from sklearn.linear_model import LinearRegression\n",
    "from sklearn.metrics import mean_squared_error\n",
    "from sklearn.metrics import r2_score\n",
    "\n",
    "data = pd.read_csv('D:/flights_preprocessed.csv')\n",
    "\n",
    "features = data.drop('Arrival Delay', axis=1)\n",
    "target = data['Arrival Delay']\n",
    "\n",
    "features_train, features_valid, target_train, target_valid = train_test_split(features, target, test_size=0.25, random_state=12345)\n",
    "\n",
    "predicted_valid = pd.Series([target_valid.mean() for i in target_valid])\n",
    "\n",
    "model = LinearRegression()\n",
    "model.fit(features_train, target_train)\n",
    "pred = model.predict(features_valid)\n",
    "mean = mean_squared_error(target_valid, pred)\n",
    "mean_2 = mean_squared_error(target_valid, predicted_valid)\n",
    "print(mean**0.5)\n",
    "print(mean_2**0.5)\n",
    "print(r2_score(target_valid, pred))"
   ]
  },
  {
   "cell_type": "code",
   "execution_count": null,
   "id": "1a78b9de-d508-48d6-bb1a-c2e372ea28a2",
   "metadata": {},
   "outputs": [],
   "source": []
  }
 ],
 "metadata": {
  "kernelspec": {
   "display_name": "Python 3 (ipykernel)",
   "language": "python",
   "name": "python3"
  },
  "language_info": {
   "codemirror_mode": {
    "name": "ipython",
    "version": 3
   },
   "file_extension": ".py",
   "mimetype": "text/x-python",
   "name": "python",
   "nbconvert_exporter": "python",
   "pygments_lexer": "ipython3",
   "version": "3.9.13"
  }
 },
 "nbformat": 4,
 "nbformat_minor": 5
}
