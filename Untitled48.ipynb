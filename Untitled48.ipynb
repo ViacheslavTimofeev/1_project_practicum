{
 "cells": [
  {
   "cell_type": "code",
   "execution_count": 8,
   "id": "7ca06a98-8fe4-48d4-980f-951ea94f141a",
   "metadata": {},
   "outputs": [
    {
     "name": "stdout",
     "output_type": "stream",
     "text": [
      "cреднее до:  591.7333333333333\n",
      "cреднее после:  932.0666666666667\n",
      "p-значение: 0.010789503820811123\n",
      "Отвергаем нулевую гипотезу\n"
     ]
    }
   ],
   "source": [
    "from scipy import stats as st\n",
    "import numpy as np\n",
    "import pandas as pd\n",
    "\n",
    "bullets_before = [821, 1164, 598, 854, 455, 1220, 161, 1400, 479, 215, \n",
    "          564, 159, 920, 173, 276, 444, 273, 711, 291, 880, \n",
    "          892, 712, 16, 476, 498, 9, 1251, 938, 389, 513]\n",
    "bullets_after = [904, 220, 676, 459, 299, 659, 1698, 1120, 514, 1086, 1499, \n",
    "         1262, 829, 476, 1149, 996, 1247, 1117, 1324, 532, 1458, 898, \n",
    "         1837, 455, 1667, 898, 474, 558, 639, 1012]\n",
    "\n",
    "print('cреднее до: ',pd.Series(bullets_before).mean())\n",
    "print('cреднее после: ',pd.Series(bullets_after).mean())\n",
    "alpha = 0.05\n",
    "results = st.ttest_rel(\n",
    "    bullets_before, \n",
    "    bullets_after)\n",
    "print('p-значение:', results.pvalue)\n",
    "if results.pvalue < alpha:\n",
    "    print(\"Отвергаем нулевую гипотезу\")\n",
    "else:\n",
    "    print(\"Не получилось отвергнуть нулевую гипотезу\")"
   ]
  },
  {
   "cell_type": "code",
   "execution_count": null,
   "id": "c8d839d9-2563-4e95-b421-f1e83e04aac8",
   "metadata": {},
   "outputs": [],
   "source": []
  }
 ],
 "metadata": {
  "kernelspec": {
   "display_name": "Python 3 (ipykernel)",
   "language": "python",
   "name": "python3"
  },
  "language_info": {
   "codemirror_mode": {
    "name": "ipython",
    "version": 3
   },
   "file_extension": ".py",
   "mimetype": "text/x-python",
   "name": "python",
   "nbconvert_exporter": "python",
   "pygments_lexer": "ipython3",
   "version": "3.9.16"
  }
 },
 "nbformat": 4,
 "nbformat_minor": 5
}
